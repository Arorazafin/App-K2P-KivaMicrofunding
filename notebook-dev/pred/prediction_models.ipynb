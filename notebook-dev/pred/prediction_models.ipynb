{
 "cells": [
  {
   "cell_type": "markdown",
   "metadata": {
    "toc": true
   },
   "source": [
    "<h1>Table of Contents<span class=\"tocSkip\"></span></h1>\n",
    "<div class=\"toc\"><ul class=\"toc-item\"><li><span><a href=\"#Load-data\" data-toc-modified-id=\"Load-data-1\"><span class=\"toc-item-num\">1&nbsp;&nbsp;</span>Load data</a></span></li><li><span><a href=\"#Data-exploration-&amp;-Presentation\" data-toc-modified-id=\"Data-exploration-&amp;-Presentation-2\"><span class=\"toc-item-num\">2&nbsp;&nbsp;</span>Data exploration &amp; Presentation</a></span></li><li><span><a href=\"#Data-mngmt-for-ML\" data-toc-modified-id=\"Data-mngmt-for-ML-3\"><span class=\"toc-item-num\">3&nbsp;&nbsp;</span>Data mngmt for ML</a></span><ul class=\"toc-item\"><li><span><a href=\"#Integration-Year\" data-toc-modified-id=\"Integration-Year-3.1\"><span class=\"toc-item-num\">3.1&nbsp;&nbsp;</span>Integration Year</a></span></li></ul></li><li><span><a href=\"#Split-dataset\" data-toc-modified-id=\"Split-dataset-4\"><span class=\"toc-item-num\">4&nbsp;&nbsp;</span>Split dataset</a></span></li><li><span><a href=\"#Models\" data-toc-modified-id=\"Models-5\"><span class=\"toc-item-num\">5&nbsp;&nbsp;</span>Models</a></span><ul class=\"toc-item\"><li><span><a href=\"#RF\" data-toc-modified-id=\"RF-5.1\"><span class=\"toc-item-num\">5.1&nbsp;&nbsp;</span>RF</a></span><ul class=\"toc-item\"><li><span><a href=\"#feature-importance\" data-toc-modified-id=\"feature-importance-5.1.1\"><span class=\"toc-item-num\">5.1.1&nbsp;&nbsp;</span>feature importance</a></span></li><li><span><a href=\"#Evaluation\" data-toc-modified-id=\"Evaluation-5.1.2\"><span class=\"toc-item-num\">5.1.2&nbsp;&nbsp;</span>Evaluation</a></span></li><li><span><a href=\"#save-model\" data-toc-modified-id=\"save-model-5.1.3\"><span class=\"toc-item-num\">5.1.3&nbsp;&nbsp;</span>save model</a></span></li></ul></li><li><span><a href=\"#xgboost\" data-toc-modified-id=\"xgboost-5.2\"><span class=\"toc-item-num\">5.2&nbsp;&nbsp;</span>xgboost</a></span><ul class=\"toc-item\"><li><span><a href=\"#feature-importance\" data-toc-modified-id=\"feature-importance-5.2.1\"><span class=\"toc-item-num\">5.2.1&nbsp;&nbsp;</span>feature importance</a></span></li><li><span><a href=\"#Evaluation\" data-toc-modified-id=\"Evaluation-5.2.2\"><span class=\"toc-item-num\">5.2.2&nbsp;&nbsp;</span>Evaluation</a></span></li></ul></li><li><span><a href=\"#SVM\" data-toc-modified-id=\"SVM-5.3\"><span class=\"toc-item-num\">5.3&nbsp;&nbsp;</span>SVM</a></span><ul class=\"toc-item\"><li><span><a href=\"#feature-importance\" data-toc-modified-id=\"feature-importance-5.3.1\"><span class=\"toc-item-num\">5.3.1&nbsp;&nbsp;</span>feature importance</a></span></li><li><span><a href=\"#optimization\" data-toc-modified-id=\"optimization-5.3.2\"><span class=\"toc-item-num\">5.3.2&nbsp;&nbsp;</span>optimization</a></span></li><li><span><a href=\"#pipeline\" data-toc-modified-id=\"pipeline-5.3.3\"><span class=\"toc-item-num\">5.3.3&nbsp;&nbsp;</span>pipeline</a></span></li><li><span><a href=\"#evaluation\" data-toc-modified-id=\"evaluation-5.3.4\"><span class=\"toc-item-num\">5.3.4&nbsp;&nbsp;</span>evaluation</a></span></li><li><span><a href=\"#save-model\" data-toc-modified-id=\"save-model-5.3.5\"><span class=\"toc-item-num\">5.3.5&nbsp;&nbsp;</span>save model</a></span></li></ul></li><li><span><a href=\"#NN\" data-toc-modified-id=\"NN-5.4\"><span class=\"toc-item-num\">5.4&nbsp;&nbsp;</span>NN</a></span><ul class=\"toc-item\"><li><span><a href=\"#feature-importance\" data-toc-modified-id=\"feature-importance-5.4.1\"><span class=\"toc-item-num\">5.4.1&nbsp;&nbsp;</span>feature importance</a></span></li><li><span><a href=\"#Evaluation\" data-toc-modified-id=\"Evaluation-5.4.2\"><span class=\"toc-item-num\">5.4.2&nbsp;&nbsp;</span>Evaluation</a></span></li><li><span><a href=\"#save-tensorflow-models\" data-toc-modified-id=\"save-tensorflow-models-5.4.3\"><span class=\"toc-item-num\">5.4.3&nbsp;&nbsp;</span>save tensorflow models</a></span></li></ul></li><li><span><a href=\"#Load-models\" data-toc-modified-id=\"Load-models-5.5\"><span class=\"toc-item-num\">5.5&nbsp;&nbsp;</span>Load models</a></span><ul class=\"toc-item\"><li><span><a href=\"#new-X-to-preidct\" data-toc-modified-id=\"new-X-to-preidct-5.5.1\"><span class=\"toc-item-num\">5.5.1&nbsp;&nbsp;</span>new X to preidct</a></span></li><li><span><a href=\"#load-from-joblib\" data-toc-modified-id=\"load-from-joblib-5.5.2\"><span class=\"toc-item-num\">5.5.2&nbsp;&nbsp;</span>load from joblib</a></span></li><li><span><a href=\"#load-tf_nn-saved\" data-toc-modified-id=\"load-tf_nn-saved-5.5.3\"><span class=\"toc-item-num\">5.5.3&nbsp;&nbsp;</span>load tf_nn saved</a></span></li></ul></li></ul></li></ul></div>"
   ]
  },
  {
   "cell_type": "code",
   "execution_count": 1,
   "metadata": {
    "ExecuteTime": {
     "end_time": "2021-02-18T13:32:20.193593Z",
     "start_time": "2021-02-18T13:32:15.834368Z"
    }
   },
   "outputs": [],
   "source": [
    "import pandas as pd\n",
    "import numpy as np\n",
    "\n",
    "import matplotlib.pyplot as plt"
   ]
  },
  {
   "cell_type": "markdown",
   "metadata": {},
   "source": [
    "# Load data"
   ]
  },
  {
   "cell_type": "code",
   "execution_count": 2,
   "metadata": {
    "ExecuteTime": {
     "end_time": "2021-02-18T13:32:20.268590Z",
     "start_time": "2021-02-18T13:32:20.199593Z"
    }
   },
   "outputs": [],
   "source": [
    "df_disso30 = pd.read_csv(\"data/disso.csv\", sep=';')"
   ]
  },
  {
   "cell_type": "code",
   "execution_count": 3,
   "metadata": {
    "ExecuteTime": {
     "end_time": "2021-02-18T13:32:20.380594Z",
     "start_time": "2021-02-18T13:32:20.275591Z"
    }
   },
   "outputs": [
    {
     "data": {
      "text/html": [
       "<div>\n",
       "<style scoped>\n",
       "    .dataframe tbody tr th:only-of-type {\n",
       "        vertical-align: middle;\n",
       "    }\n",
       "\n",
       "    .dataframe tbody tr th {\n",
       "        vertical-align: top;\n",
       "    }\n",
       "\n",
       "    .dataframe thead th {\n",
       "        text-align: right;\n",
       "    }\n",
       "</style>\n",
       "<table border=\"1\" class=\"dataframe\">\n",
       "  <thead>\n",
       "    <tr style=\"text-align: right;\">\n",
       "      <th></th>\n",
       "      <th>Batch</th>\n",
       "      <th>Dissolution 30 min</th>\n",
       "      <th>Humidite_finale</th>\n",
       "      <th>Temps_de_granulation</th>\n",
       "      <th>Temps_de_mouillage</th>\n",
       "      <th>Temps_de_melange</th>\n",
       "      <th>Temps_de_sechage</th>\n",
       "      <th>Temperature_enceinte_GRANULATION</th>\n",
       "      <th>Temperature_enceinte_MELANGE</th>\n",
       "      <th>Temperature_enceinte_MOUILLAGE</th>\n",
       "      <th>Temperature_entree_REFROIDISSEMENT</th>\n",
       "      <th>Temperature_entree_SECHAGE</th>\n",
       "      <th>Temperature_sortie_REFROIDISSEMENT</th>\n",
       "      <th>Temperature_sortie_SECHAGE</th>\n",
       "      <th>Debit_air_REFROIDISSEMENT</th>\n",
       "      <th>Debit_air_SECHAGE</th>\n",
       "      <th>Puissance_GRANULATION</th>\n",
       "      <th>Puissance_MELANGE</th>\n",
       "      <th>Puissance_MOUILLAGE</th>\n",
       "    </tr>\n",
       "  </thead>\n",
       "  <tbody>\n",
       "    <tr>\n",
       "      <th>0</th>\n",
       "      <td>5A119</td>\n",
       "      <td>41.500000</td>\n",
       "      <td>2.69</td>\n",
       "      <td>0.001188</td>\n",
       "      <td>0.000313</td>\n",
       "      <td>0.001424</td>\n",
       "      <td>0.061339</td>\n",
       "      <td>25.243333</td>\n",
       "      <td>15.216667</td>\n",
       "      <td>25.536667</td>\n",
       "      <td>30.473333</td>\n",
       "      <td>58.010000</td>\n",
       "      <td>38.970000</td>\n",
       "      <td>28.033333</td>\n",
       "      <td>4350.343333</td>\n",
       "      <td>4292.400000</td>\n",
       "      <td>4.461667</td>\n",
       "      <td>5.470000</td>\n",
       "      <td>2.616667</td>\n",
       "    </tr>\n",
       "    <tr>\n",
       "      <th>1</th>\n",
       "      <td>5A125</td>\n",
       "      <td>43.166667</td>\n",
       "      <td>1.69</td>\n",
       "      <td>0.001289</td>\n",
       "      <td>0.000316</td>\n",
       "      <td>0.001424</td>\n",
       "      <td>0.047410</td>\n",
       "      <td>26.256667</td>\n",
       "      <td>15.830000</td>\n",
       "      <td>28.006667</td>\n",
       "      <td>30.297500</td>\n",
       "      <td>56.930000</td>\n",
       "      <td>38.327500</td>\n",
       "      <td>28.555000</td>\n",
       "      <td>4079.585000</td>\n",
       "      <td>3805.547500</td>\n",
       "      <td>4.265000</td>\n",
       "      <td>5.310000</td>\n",
       "      <td>2.466667</td>\n",
       "    </tr>\n",
       "    <tr>\n",
       "      <th>2</th>\n",
       "      <td>5A126</td>\n",
       "      <td>38.166667</td>\n",
       "      <td>1.80</td>\n",
       "      <td>0.001233</td>\n",
       "      <td>0.000313</td>\n",
       "      <td>0.001424</td>\n",
       "      <td>0.058453</td>\n",
       "      <td>28.314286</td>\n",
       "      <td>17.143333</td>\n",
       "      <td>32.453333</td>\n",
       "      <td>35.503333</td>\n",
       "      <td>58.426667</td>\n",
       "      <td>38.516667</td>\n",
       "      <td>28.533333</td>\n",
       "      <td>5498.036667</td>\n",
       "      <td>4965.076667</td>\n",
       "      <td>4.477143</td>\n",
       "      <td>5.443333</td>\n",
       "      <td>2.370000</td>\n",
       "    </tr>\n",
       "    <tr>\n",
       "      <th>3</th>\n",
       "      <td>5A127</td>\n",
       "      <td>39.500000</td>\n",
       "      <td>2.06</td>\n",
       "      <td>0.001339</td>\n",
       "      <td>0.000330</td>\n",
       "      <td>0.001427</td>\n",
       "      <td>0.078140</td>\n",
       "      <td>28.490000</td>\n",
       "      <td>17.286667</td>\n",
       "      <td>30.137500</td>\n",
       "      <td>35.596667</td>\n",
       "      <td>56.220000</td>\n",
       "      <td>38.363333</td>\n",
       "      <td>28.033333</td>\n",
       "      <td>5348.393333</td>\n",
       "      <td>4021.286667</td>\n",
       "      <td>4.313333</td>\n",
       "      <td>5.606667</td>\n",
       "      <td>2.640000</td>\n",
       "    </tr>\n",
       "    <tr>\n",
       "      <th>4</th>\n",
       "      <td>6A001</td>\n",
       "      <td>43.500000</td>\n",
       "      <td>2.10</td>\n",
       "      <td>0.001235</td>\n",
       "      <td>0.000324</td>\n",
       "      <td>0.001420</td>\n",
       "      <td>0.081265</td>\n",
       "      <td>30.766667</td>\n",
       "      <td>20.236667</td>\n",
       "      <td>35.196667</td>\n",
       "      <td>35.443333</td>\n",
       "      <td>55.983333</td>\n",
       "      <td>38.393333</td>\n",
       "      <td>28.320000</td>\n",
       "      <td>5284.533333</td>\n",
       "      <td>4603.143333</td>\n",
       "      <td>4.471667</td>\n",
       "      <td>5.596667</td>\n",
       "      <td>2.453333</td>\n",
       "    </tr>\n",
       "    <tr>\n",
       "      <th>...</th>\n",
       "      <td>...</td>\n",
       "      <td>...</td>\n",
       "      <td>...</td>\n",
       "      <td>...</td>\n",
       "      <td>...</td>\n",
       "      <td>...</td>\n",
       "      <td>...</td>\n",
       "      <td>...</td>\n",
       "      <td>...</td>\n",
       "      <td>...</td>\n",
       "      <td>...</td>\n",
       "      <td>...</td>\n",
       "      <td>...</td>\n",
       "      <td>...</td>\n",
       "      <td>...</td>\n",
       "      <td>...</td>\n",
       "      <td>...</td>\n",
       "      <td>...</td>\n",
       "      <td>...</td>\n",
       "    </tr>\n",
       "    <tr>\n",
       "      <th>638</th>\n",
       "      <td>AA108</td>\n",
       "      <td>42.833333</td>\n",
       "      <td>1.70</td>\n",
       "      <td>0.000625</td>\n",
       "      <td>0.000745</td>\n",
       "      <td>0.001424</td>\n",
       "      <td>0.053704</td>\n",
       "      <td>23.850000</td>\n",
       "      <td>23.446667</td>\n",
       "      <td>23.236667</td>\n",
       "      <td>33.160000</td>\n",
       "      <td>58.345000</td>\n",
       "      <td>40.370000</td>\n",
       "      <td>28.025000</td>\n",
       "      <td>4468.770000</td>\n",
       "      <td>4735.040000</td>\n",
       "      <td>5.360000</td>\n",
       "      <td>8.256667</td>\n",
       "      <td>3.446667</td>\n",
       "    </tr>\n",
       "    <tr>\n",
       "      <th>639</th>\n",
       "      <td>AA109</td>\n",
       "      <td>42.833333</td>\n",
       "      <td>1.74</td>\n",
       "      <td>0.000505</td>\n",
       "      <td>0.000741</td>\n",
       "      <td>0.001424</td>\n",
       "      <td>0.057546</td>\n",
       "      <td>23.290000</td>\n",
       "      <td>23.086667</td>\n",
       "      <td>22.780000</td>\n",
       "      <td>33.625000</td>\n",
       "      <td>57.415000</td>\n",
       "      <td>40.345000</td>\n",
       "      <td>28.030000</td>\n",
       "      <td>5253.040000</td>\n",
       "      <td>4781.395000</td>\n",
       "      <td>5.460000</td>\n",
       "      <td>7.896667</td>\n",
       "      <td>3.493333</td>\n",
       "    </tr>\n",
       "    <tr>\n",
       "      <th>640</th>\n",
       "      <td>AA110</td>\n",
       "      <td>48.000000</td>\n",
       "      <td>1.83</td>\n",
       "      <td>0.000795</td>\n",
       "      <td>0.000733</td>\n",
       "      <td>0.001424</td>\n",
       "      <td>0.057909</td>\n",
       "      <td>24.133333</td>\n",
       "      <td>23.433333</td>\n",
       "      <td>23.280000</td>\n",
       "      <td>34.583333</td>\n",
       "      <td>57.173333</td>\n",
       "      <td>40.706667</td>\n",
       "      <td>26.836667</td>\n",
       "      <td>4589.556667</td>\n",
       "      <td>5069.166667</td>\n",
       "      <td>5.576667</td>\n",
       "      <td>7.860000</td>\n",
       "      <td>3.346667</td>\n",
       "    </tr>\n",
       "    <tr>\n",
       "      <th>641</th>\n",
       "      <td>AA111</td>\n",
       "      <td>43.000000</td>\n",
       "      <td>1.92</td>\n",
       "      <td>0.000791</td>\n",
       "      <td>0.000733</td>\n",
       "      <td>0.001424</td>\n",
       "      <td>0.056049</td>\n",
       "      <td>24.246667</td>\n",
       "      <td>23.670000</td>\n",
       "      <td>23.573333</td>\n",
       "      <td>33.463333</td>\n",
       "      <td>57.160000</td>\n",
       "      <td>40.333333</td>\n",
       "      <td>27.113333</td>\n",
       "      <td>4496.490000</td>\n",
       "      <td>4743.053333</td>\n",
       "      <td>5.500000</td>\n",
       "      <td>7.946667</td>\n",
       "      <td>3.356667</td>\n",
       "    </tr>\n",
       "    <tr>\n",
       "      <th>642</th>\n",
       "      <td>AA112</td>\n",
       "      <td>42.833333</td>\n",
       "      <td>1.74</td>\n",
       "      <td>0.000729</td>\n",
       "      <td>0.000733</td>\n",
       "      <td>0.001424</td>\n",
       "      <td>0.055799</td>\n",
       "      <td>24.093333</td>\n",
       "      <td>23.906667</td>\n",
       "      <td>23.516667</td>\n",
       "      <td>33.546667</td>\n",
       "      <td>57.743333</td>\n",
       "      <td>40.533333</td>\n",
       "      <td>27.646667</td>\n",
       "      <td>4520.620000</td>\n",
       "      <td>4613.183333</td>\n",
       "      <td>5.420000</td>\n",
       "      <td>7.833333</td>\n",
       "      <td>3.356667</td>\n",
       "    </tr>\n",
       "  </tbody>\n",
       "</table>\n",
       "<p>643 rows × 19 columns</p>\n",
       "</div>"
      ],
      "text/plain": [
       "     Batch  Dissolution 30 min  Humidite_finale  Temps_de_granulation  \\\n",
       "0    5A119           41.500000             2.69              0.001188   \n",
       "1    5A125           43.166667             1.69              0.001289   \n",
       "2    5A126           38.166667             1.80              0.001233   \n",
       "3    5A127           39.500000             2.06              0.001339   \n",
       "4    6A001           43.500000             2.10              0.001235   \n",
       "..     ...                 ...              ...                   ...   \n",
       "638  AA108           42.833333             1.70              0.000625   \n",
       "639  AA109           42.833333             1.74              0.000505   \n",
       "640  AA110           48.000000             1.83              0.000795   \n",
       "641  AA111           43.000000             1.92              0.000791   \n",
       "642  AA112           42.833333             1.74              0.000729   \n",
       "\n",
       "     Temps_de_mouillage  Temps_de_melange  Temps_de_sechage  \\\n",
       "0              0.000313          0.001424          0.061339   \n",
       "1              0.000316          0.001424          0.047410   \n",
       "2              0.000313          0.001424          0.058453   \n",
       "3              0.000330          0.001427          0.078140   \n",
       "4              0.000324          0.001420          0.081265   \n",
       "..                  ...               ...               ...   \n",
       "638            0.000745          0.001424          0.053704   \n",
       "639            0.000741          0.001424          0.057546   \n",
       "640            0.000733          0.001424          0.057909   \n",
       "641            0.000733          0.001424          0.056049   \n",
       "642            0.000733          0.001424          0.055799   \n",
       "\n",
       "     Temperature_enceinte_GRANULATION  Temperature_enceinte_MELANGE  \\\n",
       "0                           25.243333                     15.216667   \n",
       "1                           26.256667                     15.830000   \n",
       "2                           28.314286                     17.143333   \n",
       "3                           28.490000                     17.286667   \n",
       "4                           30.766667                     20.236667   \n",
       "..                                ...                           ...   \n",
       "638                         23.850000                     23.446667   \n",
       "639                         23.290000                     23.086667   \n",
       "640                         24.133333                     23.433333   \n",
       "641                         24.246667                     23.670000   \n",
       "642                         24.093333                     23.906667   \n",
       "\n",
       "     Temperature_enceinte_MOUILLAGE  Temperature_entree_REFROIDISSEMENT  \\\n",
       "0                         25.536667                           30.473333   \n",
       "1                         28.006667                           30.297500   \n",
       "2                         32.453333                           35.503333   \n",
       "3                         30.137500                           35.596667   \n",
       "4                         35.196667                           35.443333   \n",
       "..                              ...                                 ...   \n",
       "638                       23.236667                           33.160000   \n",
       "639                       22.780000                           33.625000   \n",
       "640                       23.280000                           34.583333   \n",
       "641                       23.573333                           33.463333   \n",
       "642                       23.516667                           33.546667   \n",
       "\n",
       "     Temperature_entree_SECHAGE  Temperature_sortie_REFROIDISSEMENT  \\\n",
       "0                     58.010000                           38.970000   \n",
       "1                     56.930000                           38.327500   \n",
       "2                     58.426667                           38.516667   \n",
       "3                     56.220000                           38.363333   \n",
       "4                     55.983333                           38.393333   \n",
       "..                          ...                                 ...   \n",
       "638                   58.345000                           40.370000   \n",
       "639                   57.415000                           40.345000   \n",
       "640                   57.173333                           40.706667   \n",
       "641                   57.160000                           40.333333   \n",
       "642                   57.743333                           40.533333   \n",
       "\n",
       "     Temperature_sortie_SECHAGE  Debit_air_REFROIDISSEMENT  Debit_air_SECHAGE  \\\n",
       "0                     28.033333                4350.343333        4292.400000   \n",
       "1                     28.555000                4079.585000        3805.547500   \n",
       "2                     28.533333                5498.036667        4965.076667   \n",
       "3                     28.033333                5348.393333        4021.286667   \n",
       "4                     28.320000                5284.533333        4603.143333   \n",
       "..                          ...                        ...                ...   \n",
       "638                   28.025000                4468.770000        4735.040000   \n",
       "639                   28.030000                5253.040000        4781.395000   \n",
       "640                   26.836667                4589.556667        5069.166667   \n",
       "641                   27.113333                4496.490000        4743.053333   \n",
       "642                   27.646667                4520.620000        4613.183333   \n",
       "\n",
       "     Puissance_GRANULATION  Puissance_MELANGE  Puissance_MOUILLAGE  \n",
       "0                 4.461667           5.470000             2.616667  \n",
       "1                 4.265000           5.310000             2.466667  \n",
       "2                 4.477143           5.443333             2.370000  \n",
       "3                 4.313333           5.606667             2.640000  \n",
       "4                 4.471667           5.596667             2.453333  \n",
       "..                     ...                ...                  ...  \n",
       "638               5.360000           8.256667             3.446667  \n",
       "639               5.460000           7.896667             3.493333  \n",
       "640               5.576667           7.860000             3.346667  \n",
       "641               5.500000           7.946667             3.356667  \n",
       "642               5.420000           7.833333             3.356667  \n",
       "\n",
       "[643 rows x 19 columns]"
      ]
     },
     "execution_count": 3,
     "metadata": {},
     "output_type": "execute_result"
    }
   ],
   "source": [
    "df_disso30 "
   ]
  },
  {
   "cell_type": "markdown",
   "metadata": {},
   "source": [
    "# Data exploration & Presentation"
   ]
  },
  {
   "cell_type": "code",
   "execution_count": 4,
   "metadata": {
    "ExecuteTime": {
     "end_time": "2021-02-18T13:32:20.415626Z",
     "start_time": "2021-02-18T13:32:20.385597Z"
    }
   },
   "outputs": [],
   "source": [
    "df_disso30_explo = pd.read_csv(\"data/disso2.csv\", sep=';')"
   ]
  },
  {
   "cell_type": "code",
   "execution_count": 5,
   "metadata": {
    "ExecuteTime": {
     "end_time": "2021-02-18T13:32:20.568591Z",
     "start_time": "2021-02-18T13:32:20.545593Z"
    }
   },
   "outputs": [
    {
     "name": "stdout",
     "output_type": "stream",
     "text": [
      "['Batch', 'Dissolution 30 min', 'Temps_de_melange', 'Temperature_enceinte_MELANGE', 'Puissance_MELANGE', 'Temps_de_mouillage', 'Temperature_enceinte_MOUILLAGE', 'Puissance_MOUILLAGE', 'Temps_de_granulation', 'Temperature_enceinte_GRANULATION', 'Puissance_GRANULATION', 'Temps_de_sechage', 'Temperature_entree_SECHAGE', 'Temperature_sortie_SECHAGE', 'Debit_air_SECHAGE', 'Temperature_entree_REFROIDISSEMENT', 'Temperature_sortie_REFROIDISSEMENT', 'Debit_air_REFROIDISSEMENT', 'Humidite_finale'] 19\n",
      "\n",
      "['Temps_de_melange', 'Temps_de_mouillage', 'Temps_de_granulation', 'Temps_de_sechage'] 4\n",
      "\n",
      "['Dissolution 30 min', 'Temperature_enceinte_MELANGE', 'Puissance_MELANGE', 'Temperature_enceinte_MOUILLAGE', 'Puissance_MOUILLAGE', 'Temperature_enceinte_GRANULATION', 'Puissance_GRANULATION', 'Temperature_entree_SECHAGE', 'Temperature_sortie_SECHAGE', 'Debit_air_SECHAGE', 'Temperature_entree_REFROIDISSEMENT', 'Temperature_sortie_REFROIDISSEMENT', 'Debit_air_REFROIDISSEMENT', 'Humidite_finale'] 14\n"
     ]
    }
   ],
   "source": [
    "features_temp = ['Temps_de_melange','Temps_de_mouillage','Temps_de_granulation', 'Temps_de_sechage']\n",
    "c0 = list(df_disso30_explo.columns)\n",
    "features_num =c0.copy()\n",
    "for x in features_temp:\n",
    "    features_num.remove(x)\n",
    "features_num.remove('Batch')\n",
    "\n",
    "print(c0, len(c0))\n",
    "print()\n",
    "print(features_temp, len(features_temp))\n",
    "print()\n",
    "print(features_num, len(features_num))\n"
   ]
  },
  {
   "cell_type": "code",
   "execution_count": 6,
   "metadata": {
    "ExecuteTime": {
     "end_time": "2021-02-18T13:32:22.162075Z",
     "start_time": "2021-02-18T13:32:22.076090Z"
    }
   },
   "outputs": [],
   "source": [
    "df= df_disso30_explo.describe().copy()"
   ]
  },
  {
   "cell_type": "code",
   "execution_count": 7,
   "metadata": {
    "ExecuteTime": {
     "end_time": "2021-02-18T13:32:22.896077Z",
     "start_time": "2021-02-18T13:32:22.882077Z"
    }
   },
   "outputs": [],
   "source": [
    "#Round features num \n",
    "for c in features_num:\n",
    "    df[c] = df[c].round(2)"
   ]
  },
  {
   "cell_type": "code",
   "execution_count": 8,
   "metadata": {
    "ExecuteTime": {
     "end_time": "2021-02-18T13:32:23.644073Z",
     "start_time": "2021-02-18T13:32:23.567077Z"
    }
   },
   "outputs": [],
   "source": [
    "#Format time\n",
    "for c in features_temp:\n",
    "    df[c] = pd.to_datetime(df[c], unit='D', origin='1899-12-30').dt.strftime('%H:%M:%S')"
   ]
  },
  {
   "cell_type": "code",
   "execution_count": 19,
   "metadata": {
    "ExecuteTime": {
     "end_time": "2021-02-18T13:41:01.754135Z",
     "start_time": "2021-02-18T13:41:01.613135Z"
    }
   },
   "outputs": [
    {
     "ename": "ValueError",
     "evalue": "Unable to parse string \"00:00:00\" at position 0",
     "output_type": "error",
     "traceback": [
      "\u001b[1;31m---------------------------------------------------------------------------\u001b[0m",
      "\u001b[1;31mValueError\u001b[0m                                Traceback (most recent call last)",
      "\u001b[1;32mpandas\\_libs\\lib.pyx\u001b[0m in \u001b[0;36mpandas._libs.lib.maybe_convert_numeric\u001b[1;34m()\u001b[0m\n",
      "\u001b[1;31mValueError\u001b[0m: Unable to parse string \"00:00:00\"",
      "\nDuring handling of the above exception, another exception occurred:\n",
      "\u001b[1;31mValueError\u001b[0m                                Traceback (most recent call last)",
      "\u001b[1;32m<ipython-input-19-c7794feac03f>\u001b[0m in \u001b[0;36m<module>\u001b[1;34m\u001b[0m\n\u001b[1;32m----> 1\u001b[1;33m \u001b[0mpd\u001b[0m\u001b[1;33m.\u001b[0m\u001b[0mto_numeric\u001b[0m\u001b[1;33m(\u001b[0m\u001b[0mdf\u001b[0m\u001b[1;33m[\u001b[0m\u001b[1;34m'Temps_de_melange'\u001b[0m\u001b[1;33m]\u001b[0m\u001b[1;33m)\u001b[0m\u001b[1;33m\u001b[0m\u001b[1;33m\u001b[0m\u001b[0m\n\u001b[0m",
      "\u001b[1;32m~\\Desktop\\Project-Labo\\correlation-stat-dev\\dash_app\\env-correl-app2\\lib\\site-packages\\pandas\\core\\tools\\numeric.py\u001b[0m in \u001b[0;36mto_numeric\u001b[1;34m(arg, errors, downcast)\u001b[0m\n\u001b[0;32m    151\u001b[0m         \u001b[1;32mtry\u001b[0m\u001b[1;33m:\u001b[0m\u001b[1;33m\u001b[0m\u001b[1;33m\u001b[0m\u001b[0m\n\u001b[0;32m    152\u001b[0m             values = lib.maybe_convert_numeric(\n\u001b[1;32m--> 153\u001b[1;33m                 \u001b[0mvalues\u001b[0m\u001b[1;33m,\u001b[0m \u001b[0mset\u001b[0m\u001b[1;33m(\u001b[0m\u001b[1;33m)\u001b[0m\u001b[1;33m,\u001b[0m \u001b[0mcoerce_numeric\u001b[0m\u001b[1;33m=\u001b[0m\u001b[0mcoerce_numeric\u001b[0m\u001b[1;33m\u001b[0m\u001b[1;33m\u001b[0m\u001b[0m\n\u001b[0m\u001b[0;32m    154\u001b[0m             )\n\u001b[0;32m    155\u001b[0m         \u001b[1;32mexcept\u001b[0m \u001b[1;33m(\u001b[0m\u001b[0mValueError\u001b[0m\u001b[1;33m,\u001b[0m \u001b[0mTypeError\u001b[0m\u001b[1;33m)\u001b[0m\u001b[1;33m:\u001b[0m\u001b[1;33m\u001b[0m\u001b[1;33m\u001b[0m\u001b[0m\n",
      "\u001b[1;32mpandas\\_libs\\lib.pyx\u001b[0m in \u001b[0;36mpandas._libs.lib.maybe_convert_numeric\u001b[1;34m()\u001b[0m\n",
      "\u001b[1;31mValueError\u001b[0m: Unable to parse string \"00:00:00\" at position 0"
     ]
    }
   ],
   "source": [
    "pd.to_numeric(df['Temps_de_melange'])"
   ]
  },
  {
   "cell_type": "code",
   "execution_count": 9,
   "metadata": {
    "ExecuteTime": {
     "end_time": "2021-02-18T13:32:25.140137Z",
     "start_time": "2021-02-18T13:32:25.108143Z"
    }
   },
   "outputs": [
    {
     "data": {
      "text/html": [
       "<div>\n",
       "<style scoped>\n",
       "    .dataframe tbody tr th:only-of-type {\n",
       "        vertical-align: middle;\n",
       "    }\n",
       "\n",
       "    .dataframe tbody tr th {\n",
       "        vertical-align: top;\n",
       "    }\n",
       "\n",
       "    .dataframe thead th {\n",
       "        text-align: right;\n",
       "    }\n",
       "</style>\n",
       "<table border=\"1\" class=\"dataframe\">\n",
       "  <thead>\n",
       "    <tr style=\"text-align: right;\">\n",
       "      <th></th>\n",
       "      <th>mean</th>\n",
       "      <th>std</th>\n",
       "      <th>min</th>\n",
       "      <th>25%</th>\n",
       "      <th>50%</th>\n",
       "      <th>75%</th>\n",
       "      <th>max</th>\n",
       "    </tr>\n",
       "  </thead>\n",
       "  <tbody>\n",
       "    <tr>\n",
       "      <th>Dissolution 30 min</th>\n",
       "      <td>43.43</td>\n",
       "      <td>3.03</td>\n",
       "      <td>36.67</td>\n",
       "      <td>41.17</td>\n",
       "      <td>43.33</td>\n",
       "      <td>45.67</td>\n",
       "      <td>51.33</td>\n",
       "    </tr>\n",
       "    <tr>\n",
       "      <th>Temps_de_melange</th>\n",
       "      <td>00:02:09</td>\n",
       "      <td>00:03:01</td>\n",
       "      <td>00:01:09</td>\n",
       "      <td>00:02:02</td>\n",
       "      <td>00:02:02</td>\n",
       "      <td>00:02:03</td>\n",
       "      <td>01:17:47</td>\n",
       "    </tr>\n",
       "    <tr>\n",
       "      <th>Temperature_enceinte_MELANGE</th>\n",
       "      <td>17.12</td>\n",
       "      <td>4.91</td>\n",
       "      <td>6.18</td>\n",
       "      <td>13.42</td>\n",
       "      <td>16.4</td>\n",
       "      <td>20.18</td>\n",
       "      <td>26.01</td>\n",
       "    </tr>\n",
       "    <tr>\n",
       "      <th>Puissance_MELANGE</th>\n",
       "      <td>6.19</td>\n",
       "      <td>1.23</td>\n",
       "      <td>3.47</td>\n",
       "      <td>5.09</td>\n",
       "      <td>6.77</td>\n",
       "      <td>7.3</td>\n",
       "      <td>8.26</td>\n",
       "    </tr>\n",
       "    <tr>\n",
       "      <th>Temps_de_mouillage</th>\n",
       "      <td>00:00:33</td>\n",
       "      <td>00:00:21</td>\n",
       "      <td>00:00:24</td>\n",
       "      <td>00:00:27</td>\n",
       "      <td>00:00:28</td>\n",
       "      <td>00:00:30</td>\n",
       "      <td>00:05:15</td>\n",
       "    </tr>\n",
       "    <tr>\n",
       "      <th>Temperature_enceinte_MOUILLAGE</th>\n",
       "      <td>17.96</td>\n",
       "      <td>6.99</td>\n",
       "      <td>4.36</td>\n",
       "      <td>11.92</td>\n",
       "      <td>17.8</td>\n",
       "      <td>24.87</td>\n",
       "      <td>35.2</td>\n",
       "    </tr>\n",
       "    <tr>\n",
       "      <th>Puissance_MOUILLAGE</th>\n",
       "      <td>2.94</td>\n",
       "      <td>0.56</td>\n",
       "      <td>1.41</td>\n",
       "      <td>2.37</td>\n",
       "      <td>3.09</td>\n",
       "      <td>3.44</td>\n",
       "      <td>3.95</td>\n",
       "    </tr>\n",
       "    <tr>\n",
       "      <th>Temps_de_granulation</th>\n",
       "      <td>00:01:32</td>\n",
       "      <td>00:00:18</td>\n",
       "      <td>00:00:39</td>\n",
       "      <td>00:01:18</td>\n",
       "      <td>00:01:33</td>\n",
       "      <td>00:01:46</td>\n",
       "      <td>00:02:43</td>\n",
       "    </tr>\n",
       "    <tr>\n",
       "      <th>Temperature_enceinte_GRANULATION</th>\n",
       "      <td>16.46</td>\n",
       "      <td>7.84</td>\n",
       "      <td>3.72</td>\n",
       "      <td>8.89</td>\n",
       "      <td>16.6</td>\n",
       "      <td>24.47</td>\n",
       "      <td>30.77</td>\n",
       "    </tr>\n",
       "    <tr>\n",
       "      <th>Puissance_GRANULATION</th>\n",
       "      <td>4.36</td>\n",
       "      <td>0.49</td>\n",
       "      <td>2.85</td>\n",
       "      <td>4.04</td>\n",
       "      <td>4.32</td>\n",
       "      <td>4.62</td>\n",
       "      <td>6.35</td>\n",
       "    </tr>\n",
       "    <tr>\n",
       "      <th>Temps_de_sechage</th>\n",
       "      <td>01:19:45</td>\n",
       "      <td>00:09:51</td>\n",
       "      <td>00:38:04</td>\n",
       "      <td>01:14:46</td>\n",
       "      <td>01:19:17</td>\n",
       "      <td>01:25:15</td>\n",
       "      <td>02:09:38</td>\n",
       "    </tr>\n",
       "    <tr>\n",
       "      <th>Temperature_entree_SECHAGE</th>\n",
       "      <td>57.58</td>\n",
       "      <td>1.15</td>\n",
       "      <td>42.94</td>\n",
       "      <td>57.39</td>\n",
       "      <td>57.88</td>\n",
       "      <td>58.2</td>\n",
       "      <td>58.98</td>\n",
       "    </tr>\n",
       "    <tr>\n",
       "      <th>Temperature_sortie_SECHAGE</th>\n",
       "      <td>28.19</td>\n",
       "      <td>0.84</td>\n",
       "      <td>25.95</td>\n",
       "      <td>27.72</td>\n",
       "      <td>28.07</td>\n",
       "      <td>28.48</td>\n",
       "      <td>32.66</td>\n",
       "    </tr>\n",
       "    <tr>\n",
       "      <th>Debit_air_SECHAGE</th>\n",
       "      <td>4720.46</td>\n",
       "      <td>492.17</td>\n",
       "      <td>2909.49</td>\n",
       "      <td>4407.77</td>\n",
       "      <td>4697.77</td>\n",
       "      <td>4980.2</td>\n",
       "      <td>6803.25</td>\n",
       "    </tr>\n",
       "    <tr>\n",
       "      <th>Temperature_entree_REFROIDISSEMENT</th>\n",
       "      <td>31.6</td>\n",
       "      <td>1.56</td>\n",
       "      <td>25.96</td>\n",
       "      <td>30.51</td>\n",
       "      <td>31.01</td>\n",
       "      <td>32.7</td>\n",
       "      <td>40.09</td>\n",
       "    </tr>\n",
       "    <tr>\n",
       "      <th>Temperature_sortie_REFROIDISSEMENT</th>\n",
       "      <td>39.41</td>\n",
       "      <td>0.76</td>\n",
       "      <td>34.22</td>\n",
       "      <td>39.04</td>\n",
       "      <td>39.31</td>\n",
       "      <td>39.73</td>\n",
       "      <td>41.34</td>\n",
       "    </tr>\n",
       "    <tr>\n",
       "      <th>Debit_air_REFROIDISSEMENT</th>\n",
       "      <td>4645.95</td>\n",
       "      <td>346.85</td>\n",
       "      <td>3451.78</td>\n",
       "      <td>4424.7</td>\n",
       "      <td>4583.02</td>\n",
       "      <td>4868.35</td>\n",
       "      <td>5953.44</td>\n",
       "    </tr>\n",
       "    <tr>\n",
       "      <th>Humidite_finale</th>\n",
       "      <td>1.86</td>\n",
       "      <td>0.19</td>\n",
       "      <td>1.3</td>\n",
       "      <td>1.74</td>\n",
       "      <td>1.84</td>\n",
       "      <td>1.97</td>\n",
       "      <td>2.77</td>\n",
       "    </tr>\n",
       "  </tbody>\n",
       "</table>\n",
       "</div>"
      ],
      "text/plain": [
       "                                        mean       std       min       25%  \\\n",
       "Dissolution 30 min                     43.43      3.03     36.67     41.17   \n",
       "Temps_de_melange                    00:02:09  00:03:01  00:01:09  00:02:02   \n",
       "Temperature_enceinte_MELANGE           17.12      4.91      6.18     13.42   \n",
       "Puissance_MELANGE                       6.19      1.23      3.47      5.09   \n",
       "Temps_de_mouillage                  00:00:33  00:00:21  00:00:24  00:00:27   \n",
       "Temperature_enceinte_MOUILLAGE         17.96      6.99      4.36     11.92   \n",
       "Puissance_MOUILLAGE                     2.94      0.56      1.41      2.37   \n",
       "Temps_de_granulation                00:01:32  00:00:18  00:00:39  00:01:18   \n",
       "Temperature_enceinte_GRANULATION       16.46      7.84      3.72      8.89   \n",
       "Puissance_GRANULATION                   4.36      0.49      2.85      4.04   \n",
       "Temps_de_sechage                    01:19:45  00:09:51  00:38:04  01:14:46   \n",
       "Temperature_entree_SECHAGE             57.58      1.15     42.94     57.39   \n",
       "Temperature_sortie_SECHAGE             28.19      0.84     25.95     27.72   \n",
       "Debit_air_SECHAGE                    4720.46    492.17   2909.49   4407.77   \n",
       "Temperature_entree_REFROIDISSEMENT      31.6      1.56     25.96     30.51   \n",
       "Temperature_sortie_REFROIDISSEMENT     39.41      0.76     34.22     39.04   \n",
       "Debit_air_REFROIDISSEMENT            4645.95    346.85   3451.78    4424.7   \n",
       "Humidite_finale                         1.86      0.19       1.3      1.74   \n",
       "\n",
       "                                         50%       75%       max  \n",
       "Dissolution 30 min                     43.33     45.67     51.33  \n",
       "Temps_de_melange                    00:02:02  00:02:03  01:17:47  \n",
       "Temperature_enceinte_MELANGE            16.4     20.18     26.01  \n",
       "Puissance_MELANGE                       6.77       7.3      8.26  \n",
       "Temps_de_mouillage                  00:00:28  00:00:30  00:05:15  \n",
       "Temperature_enceinte_MOUILLAGE          17.8     24.87      35.2  \n",
       "Puissance_MOUILLAGE                     3.09      3.44      3.95  \n",
       "Temps_de_granulation                00:01:33  00:01:46  00:02:43  \n",
       "Temperature_enceinte_GRANULATION        16.6     24.47     30.77  \n",
       "Puissance_GRANULATION                   4.32      4.62      6.35  \n",
       "Temps_de_sechage                    01:19:17  01:25:15  02:09:38  \n",
       "Temperature_entree_SECHAGE             57.88      58.2     58.98  \n",
       "Temperature_sortie_SECHAGE             28.07     28.48     32.66  \n",
       "Debit_air_SECHAGE                    4697.77    4980.2   6803.25  \n",
       "Temperature_entree_REFROIDISSEMENT     31.01      32.7     40.09  \n",
       "Temperature_sortie_REFROIDISSEMENT     39.31     39.73     41.34  \n",
       "Debit_air_REFROIDISSEMENT            4583.02   4868.35   5953.44  \n",
       "Humidite_finale                         1.84      1.97      2.77  "
      ]
     },
     "execution_count": 9,
     "metadata": {},
     "output_type": "execute_result"
    }
   ],
   "source": [
    "df.T.drop('count',axis =1)"
   ]
  },
  {
   "cell_type": "markdown",
   "metadata": {},
   "source": [
    "# Data mngmt for ML"
   ]
  },
  {
   "cell_type": "markdown",
   "metadata": {
    "ExecuteTime": {
     "end_time": "2021-01-27T09:42:48.950907Z",
     "start_time": "2021-01-27T09:42:48.943911Z"
    }
   },
   "source": [
    "## Integration Year"
   ]
  },
  {
   "cell_type": "code",
   "execution_count": 10,
   "metadata": {
    "ExecuteTime": {
     "end_time": "2021-02-05T13:46:56.528940Z",
     "start_time": "2021-02-05T13:46:56.518932Z"
    }
   },
   "outputs": [],
   "source": [
    "param_year = {\n",
    "    'Code_year': ['5A','6A','7A','8A','9A', 'AA'],\n",
    "    'Year': [2015, 2016,2017,2018,2019,2020],\n",
    "}\n",
    "param_year = pd.DataFrame(param_year)"
   ]
  },
  {
   "cell_type": "code",
   "execution_count": 11,
   "metadata": {
    "ExecuteTime": {
     "end_time": "2021-02-05T13:46:56.697764Z",
     "start_time": "2021-02-05T13:46:56.534933Z"
    }
   },
   "outputs": [
    {
     "data": {
      "text/html": [
       "<div>\n",
       "<style scoped>\n",
       "    .dataframe tbody tr th:only-of-type {\n",
       "        vertical-align: middle;\n",
       "    }\n",
       "\n",
       "    .dataframe tbody tr th {\n",
       "        vertical-align: top;\n",
       "    }\n",
       "\n",
       "    .dataframe thead th {\n",
       "        text-align: right;\n",
       "    }\n",
       "</style>\n",
       "<table border=\"1\" class=\"dataframe\">\n",
       "  <thead>\n",
       "    <tr style=\"text-align: right;\">\n",
       "      <th></th>\n",
       "      <th>Dissolution 30 min</th>\n",
       "      <th>Humidite_finale</th>\n",
       "      <th>Temps_de_granulation</th>\n",
       "      <th>Temps_de_mouillage</th>\n",
       "      <th>Temps_de_melange</th>\n",
       "      <th>Temps_de_sechage</th>\n",
       "      <th>Temperature_enceinte_GRANULATION</th>\n",
       "      <th>Temperature_enceinte_MELANGE</th>\n",
       "      <th>Temperature_enceinte_MOUILLAGE</th>\n",
       "      <th>Temperature_entree_REFROIDISSEMENT</th>\n",
       "      <th>Temperature_entree_SECHAGE</th>\n",
       "      <th>Temperature_sortie_REFROIDISSEMENT</th>\n",
       "      <th>Temperature_sortie_SECHAGE</th>\n",
       "      <th>Debit_air_REFROIDISSEMENT</th>\n",
       "      <th>Debit_air_SECHAGE</th>\n",
       "      <th>Puissance_GRANULATION</th>\n",
       "      <th>Puissance_MELANGE</th>\n",
       "      <th>Puissance_MOUILLAGE</th>\n",
       "      <th>Code_year</th>\n",
       "      <th>Year</th>\n",
       "    </tr>\n",
       "    <tr>\n",
       "      <th>Batch</th>\n",
       "      <th></th>\n",
       "      <th></th>\n",
       "      <th></th>\n",
       "      <th></th>\n",
       "      <th></th>\n",
       "      <th></th>\n",
       "      <th></th>\n",
       "      <th></th>\n",
       "      <th></th>\n",
       "      <th></th>\n",
       "      <th></th>\n",
       "      <th></th>\n",
       "      <th></th>\n",
       "      <th></th>\n",
       "      <th></th>\n",
       "      <th></th>\n",
       "      <th></th>\n",
       "      <th></th>\n",
       "      <th></th>\n",
       "      <th></th>\n",
       "    </tr>\n",
       "  </thead>\n",
       "  <tbody>\n",
       "    <tr>\n",
       "      <th>5A119</th>\n",
       "      <td>41.500000</td>\n",
       "      <td>2.69</td>\n",
       "      <td>0.001188</td>\n",
       "      <td>0.000313</td>\n",
       "      <td>0.001424</td>\n",
       "      <td>0.061339</td>\n",
       "      <td>25.243333</td>\n",
       "      <td>15.216667</td>\n",
       "      <td>25.536667</td>\n",
       "      <td>30.473333</td>\n",
       "      <td>58.010000</td>\n",
       "      <td>38.970000</td>\n",
       "      <td>28.033333</td>\n",
       "      <td>4350.343333</td>\n",
       "      <td>4292.400000</td>\n",
       "      <td>4.461667</td>\n",
       "      <td>5.470000</td>\n",
       "      <td>2.616667</td>\n",
       "      <td>5A</td>\n",
       "      <td>2015</td>\n",
       "    </tr>\n",
       "    <tr>\n",
       "      <th>5A125</th>\n",
       "      <td>43.166667</td>\n",
       "      <td>1.69</td>\n",
       "      <td>0.001289</td>\n",
       "      <td>0.000316</td>\n",
       "      <td>0.001424</td>\n",
       "      <td>0.047410</td>\n",
       "      <td>26.256667</td>\n",
       "      <td>15.830000</td>\n",
       "      <td>28.006667</td>\n",
       "      <td>30.297500</td>\n",
       "      <td>56.930000</td>\n",
       "      <td>38.327500</td>\n",
       "      <td>28.555000</td>\n",
       "      <td>4079.585000</td>\n",
       "      <td>3805.547500</td>\n",
       "      <td>4.265000</td>\n",
       "      <td>5.310000</td>\n",
       "      <td>2.466667</td>\n",
       "      <td>5A</td>\n",
       "      <td>2015</td>\n",
       "    </tr>\n",
       "    <tr>\n",
       "      <th>5A126</th>\n",
       "      <td>38.166667</td>\n",
       "      <td>1.80</td>\n",
       "      <td>0.001233</td>\n",
       "      <td>0.000313</td>\n",
       "      <td>0.001424</td>\n",
       "      <td>0.058453</td>\n",
       "      <td>28.314286</td>\n",
       "      <td>17.143333</td>\n",
       "      <td>32.453333</td>\n",
       "      <td>35.503333</td>\n",
       "      <td>58.426667</td>\n",
       "      <td>38.516667</td>\n",
       "      <td>28.533333</td>\n",
       "      <td>5498.036667</td>\n",
       "      <td>4965.076667</td>\n",
       "      <td>4.477143</td>\n",
       "      <td>5.443333</td>\n",
       "      <td>2.370000</td>\n",
       "      <td>5A</td>\n",
       "      <td>2015</td>\n",
       "    </tr>\n",
       "    <tr>\n",
       "      <th>5A127</th>\n",
       "      <td>39.500000</td>\n",
       "      <td>2.06</td>\n",
       "      <td>0.001339</td>\n",
       "      <td>0.000330</td>\n",
       "      <td>0.001427</td>\n",
       "      <td>0.078140</td>\n",
       "      <td>28.490000</td>\n",
       "      <td>17.286667</td>\n",
       "      <td>30.137500</td>\n",
       "      <td>35.596667</td>\n",
       "      <td>56.220000</td>\n",
       "      <td>38.363333</td>\n",
       "      <td>28.033333</td>\n",
       "      <td>5348.393333</td>\n",
       "      <td>4021.286667</td>\n",
       "      <td>4.313333</td>\n",
       "      <td>5.606667</td>\n",
       "      <td>2.640000</td>\n",
       "      <td>5A</td>\n",
       "      <td>2015</td>\n",
       "    </tr>\n",
       "    <tr>\n",
       "      <th>6A001</th>\n",
       "      <td>43.500000</td>\n",
       "      <td>2.10</td>\n",
       "      <td>0.001235</td>\n",
       "      <td>0.000324</td>\n",
       "      <td>0.001420</td>\n",
       "      <td>0.081265</td>\n",
       "      <td>30.766667</td>\n",
       "      <td>20.236667</td>\n",
       "      <td>35.196667</td>\n",
       "      <td>35.443333</td>\n",
       "      <td>55.983333</td>\n",
       "      <td>38.393333</td>\n",
       "      <td>28.320000</td>\n",
       "      <td>5284.533333</td>\n",
       "      <td>4603.143333</td>\n",
       "      <td>4.471667</td>\n",
       "      <td>5.596667</td>\n",
       "      <td>2.453333</td>\n",
       "      <td>6A</td>\n",
       "      <td>2016</td>\n",
       "    </tr>\n",
       "    <tr>\n",
       "      <th>...</th>\n",
       "      <td>...</td>\n",
       "      <td>...</td>\n",
       "      <td>...</td>\n",
       "      <td>...</td>\n",
       "      <td>...</td>\n",
       "      <td>...</td>\n",
       "      <td>...</td>\n",
       "      <td>...</td>\n",
       "      <td>...</td>\n",
       "      <td>...</td>\n",
       "      <td>...</td>\n",
       "      <td>...</td>\n",
       "      <td>...</td>\n",
       "      <td>...</td>\n",
       "      <td>...</td>\n",
       "      <td>...</td>\n",
       "      <td>...</td>\n",
       "      <td>...</td>\n",
       "      <td>...</td>\n",
       "      <td>...</td>\n",
       "    </tr>\n",
       "    <tr>\n",
       "      <th>AA108</th>\n",
       "      <td>42.833333</td>\n",
       "      <td>1.70</td>\n",
       "      <td>0.000625</td>\n",
       "      <td>0.000745</td>\n",
       "      <td>0.001424</td>\n",
       "      <td>0.053704</td>\n",
       "      <td>23.850000</td>\n",
       "      <td>23.446667</td>\n",
       "      <td>23.236667</td>\n",
       "      <td>33.160000</td>\n",
       "      <td>58.345000</td>\n",
       "      <td>40.370000</td>\n",
       "      <td>28.025000</td>\n",
       "      <td>4468.770000</td>\n",
       "      <td>4735.040000</td>\n",
       "      <td>5.360000</td>\n",
       "      <td>8.256667</td>\n",
       "      <td>3.446667</td>\n",
       "      <td>AA</td>\n",
       "      <td>2020</td>\n",
       "    </tr>\n",
       "    <tr>\n",
       "      <th>AA109</th>\n",
       "      <td>42.833333</td>\n",
       "      <td>1.74</td>\n",
       "      <td>0.000505</td>\n",
       "      <td>0.000741</td>\n",
       "      <td>0.001424</td>\n",
       "      <td>0.057546</td>\n",
       "      <td>23.290000</td>\n",
       "      <td>23.086667</td>\n",
       "      <td>22.780000</td>\n",
       "      <td>33.625000</td>\n",
       "      <td>57.415000</td>\n",
       "      <td>40.345000</td>\n",
       "      <td>28.030000</td>\n",
       "      <td>5253.040000</td>\n",
       "      <td>4781.395000</td>\n",
       "      <td>5.460000</td>\n",
       "      <td>7.896667</td>\n",
       "      <td>3.493333</td>\n",
       "      <td>AA</td>\n",
       "      <td>2020</td>\n",
       "    </tr>\n",
       "    <tr>\n",
       "      <th>AA110</th>\n",
       "      <td>48.000000</td>\n",
       "      <td>1.83</td>\n",
       "      <td>0.000795</td>\n",
       "      <td>0.000733</td>\n",
       "      <td>0.001424</td>\n",
       "      <td>0.057909</td>\n",
       "      <td>24.133333</td>\n",
       "      <td>23.433333</td>\n",
       "      <td>23.280000</td>\n",
       "      <td>34.583333</td>\n",
       "      <td>57.173333</td>\n",
       "      <td>40.706667</td>\n",
       "      <td>26.836667</td>\n",
       "      <td>4589.556667</td>\n",
       "      <td>5069.166667</td>\n",
       "      <td>5.576667</td>\n",
       "      <td>7.860000</td>\n",
       "      <td>3.346667</td>\n",
       "      <td>AA</td>\n",
       "      <td>2020</td>\n",
       "    </tr>\n",
       "    <tr>\n",
       "      <th>AA111</th>\n",
       "      <td>43.000000</td>\n",
       "      <td>1.92</td>\n",
       "      <td>0.000791</td>\n",
       "      <td>0.000733</td>\n",
       "      <td>0.001424</td>\n",
       "      <td>0.056049</td>\n",
       "      <td>24.246667</td>\n",
       "      <td>23.670000</td>\n",
       "      <td>23.573333</td>\n",
       "      <td>33.463333</td>\n",
       "      <td>57.160000</td>\n",
       "      <td>40.333333</td>\n",
       "      <td>27.113333</td>\n",
       "      <td>4496.490000</td>\n",
       "      <td>4743.053333</td>\n",
       "      <td>5.500000</td>\n",
       "      <td>7.946667</td>\n",
       "      <td>3.356667</td>\n",
       "      <td>AA</td>\n",
       "      <td>2020</td>\n",
       "    </tr>\n",
       "    <tr>\n",
       "      <th>AA112</th>\n",
       "      <td>42.833333</td>\n",
       "      <td>1.74</td>\n",
       "      <td>0.000729</td>\n",
       "      <td>0.000733</td>\n",
       "      <td>0.001424</td>\n",
       "      <td>0.055799</td>\n",
       "      <td>24.093333</td>\n",
       "      <td>23.906667</td>\n",
       "      <td>23.516667</td>\n",
       "      <td>33.546667</td>\n",
       "      <td>57.743333</td>\n",
       "      <td>40.533333</td>\n",
       "      <td>27.646667</td>\n",
       "      <td>4520.620000</td>\n",
       "      <td>4613.183333</td>\n",
       "      <td>5.420000</td>\n",
       "      <td>7.833333</td>\n",
       "      <td>3.356667</td>\n",
       "      <td>AA</td>\n",
       "      <td>2020</td>\n",
       "    </tr>\n",
       "  </tbody>\n",
       "</table>\n",
       "<p>632 rows × 20 columns</p>\n",
       "</div>"
      ],
      "text/plain": [
       "       Dissolution 30 min  Humidite_finale  Temps_de_granulation  \\\n",
       "Batch                                                              \n",
       "5A119           41.500000             2.69              0.001188   \n",
       "5A125           43.166667             1.69              0.001289   \n",
       "5A126           38.166667             1.80              0.001233   \n",
       "5A127           39.500000             2.06              0.001339   \n",
       "6A001           43.500000             2.10              0.001235   \n",
       "...                   ...              ...                   ...   \n",
       "AA108           42.833333             1.70              0.000625   \n",
       "AA109           42.833333             1.74              0.000505   \n",
       "AA110           48.000000             1.83              0.000795   \n",
       "AA111           43.000000             1.92              0.000791   \n",
       "AA112           42.833333             1.74              0.000729   \n",
       "\n",
       "       Temps_de_mouillage  Temps_de_melange  Temps_de_sechage  \\\n",
       "Batch                                                           \n",
       "5A119            0.000313          0.001424          0.061339   \n",
       "5A125            0.000316          0.001424          0.047410   \n",
       "5A126            0.000313          0.001424          0.058453   \n",
       "5A127            0.000330          0.001427          0.078140   \n",
       "6A001            0.000324          0.001420          0.081265   \n",
       "...                   ...               ...               ...   \n",
       "AA108            0.000745          0.001424          0.053704   \n",
       "AA109            0.000741          0.001424          0.057546   \n",
       "AA110            0.000733          0.001424          0.057909   \n",
       "AA111            0.000733          0.001424          0.056049   \n",
       "AA112            0.000733          0.001424          0.055799   \n",
       "\n",
       "       Temperature_enceinte_GRANULATION  Temperature_enceinte_MELANGE  \\\n",
       "Batch                                                                   \n",
       "5A119                         25.243333                     15.216667   \n",
       "5A125                         26.256667                     15.830000   \n",
       "5A126                         28.314286                     17.143333   \n",
       "5A127                         28.490000                     17.286667   \n",
       "6A001                         30.766667                     20.236667   \n",
       "...                                 ...                           ...   \n",
       "AA108                         23.850000                     23.446667   \n",
       "AA109                         23.290000                     23.086667   \n",
       "AA110                         24.133333                     23.433333   \n",
       "AA111                         24.246667                     23.670000   \n",
       "AA112                         24.093333                     23.906667   \n",
       "\n",
       "       Temperature_enceinte_MOUILLAGE  Temperature_entree_REFROIDISSEMENT  \\\n",
       "Batch                                                                       \n",
       "5A119                       25.536667                           30.473333   \n",
       "5A125                       28.006667                           30.297500   \n",
       "5A126                       32.453333                           35.503333   \n",
       "5A127                       30.137500                           35.596667   \n",
       "6A001                       35.196667                           35.443333   \n",
       "...                               ...                                 ...   \n",
       "AA108                       23.236667                           33.160000   \n",
       "AA109                       22.780000                           33.625000   \n",
       "AA110                       23.280000                           34.583333   \n",
       "AA111                       23.573333                           33.463333   \n",
       "AA112                       23.516667                           33.546667   \n",
       "\n",
       "       Temperature_entree_SECHAGE  Temperature_sortie_REFROIDISSEMENT  \\\n",
       "Batch                                                                   \n",
       "5A119                   58.010000                           38.970000   \n",
       "5A125                   56.930000                           38.327500   \n",
       "5A126                   58.426667                           38.516667   \n",
       "5A127                   56.220000                           38.363333   \n",
       "6A001                   55.983333                           38.393333   \n",
       "...                           ...                                 ...   \n",
       "AA108                   58.345000                           40.370000   \n",
       "AA109                   57.415000                           40.345000   \n",
       "AA110                   57.173333                           40.706667   \n",
       "AA111                   57.160000                           40.333333   \n",
       "AA112                   57.743333                           40.533333   \n",
       "\n",
       "       Temperature_sortie_SECHAGE  Debit_air_REFROIDISSEMENT  \\\n",
       "Batch                                                          \n",
       "5A119                   28.033333                4350.343333   \n",
       "5A125                   28.555000                4079.585000   \n",
       "5A126                   28.533333                5498.036667   \n",
       "5A127                   28.033333                5348.393333   \n",
       "6A001                   28.320000                5284.533333   \n",
       "...                           ...                        ...   \n",
       "AA108                   28.025000                4468.770000   \n",
       "AA109                   28.030000                5253.040000   \n",
       "AA110                   26.836667                4589.556667   \n",
       "AA111                   27.113333                4496.490000   \n",
       "AA112                   27.646667                4520.620000   \n",
       "\n",
       "       Debit_air_SECHAGE  Puissance_GRANULATION  Puissance_MELANGE  \\\n",
       "Batch                                                                \n",
       "5A119        4292.400000               4.461667           5.470000   \n",
       "5A125        3805.547500               4.265000           5.310000   \n",
       "5A126        4965.076667               4.477143           5.443333   \n",
       "5A127        4021.286667               4.313333           5.606667   \n",
       "6A001        4603.143333               4.471667           5.596667   \n",
       "...                  ...                    ...                ...   \n",
       "AA108        4735.040000               5.360000           8.256667   \n",
       "AA109        4781.395000               5.460000           7.896667   \n",
       "AA110        5069.166667               5.576667           7.860000   \n",
       "AA111        4743.053333               5.500000           7.946667   \n",
       "AA112        4613.183333               5.420000           7.833333   \n",
       "\n",
       "       Puissance_MOUILLAGE Code_year  Year  \n",
       "Batch                                       \n",
       "5A119             2.616667        5A  2015  \n",
       "5A125             2.466667        5A  2015  \n",
       "5A126             2.370000        5A  2015  \n",
       "5A127             2.640000        5A  2015  \n",
       "6A001             2.453333        6A  2016  \n",
       "...                    ...       ...   ...  \n",
       "AA108             3.446667        AA  2020  \n",
       "AA109             3.493333        AA  2020  \n",
       "AA110             3.346667        AA  2020  \n",
       "AA111             3.356667        AA  2020  \n",
       "AA112             3.356667        AA  2020  \n",
       "\n",
       "[632 rows x 20 columns]"
      ]
     },
     "execution_count": 11,
     "metadata": {},
     "output_type": "execute_result"
    }
   ],
   "source": [
    "df_disso30['Code_year'] =  df_disso30['Batch'].str[0:2]\n",
    "df_disso30 = df_disso30.merge(param_year, on ='Code_year' )\n",
    "df_disso30.set_index('Batch', inplace = True) \n",
    "df_disso30.dropna(inplace = True)\n",
    "df_disso30"
   ]
  },
  {
   "cell_type": "markdown",
   "metadata": {},
   "source": [
    "# Split dataset"
   ]
  },
  {
   "cell_type": "code",
   "execution_count": 12,
   "metadata": {
    "ExecuteTime": {
     "end_time": "2021-02-05T13:47:02.849519Z",
     "start_time": "2021-02-05T13:46:56.704770Z"
    }
   },
   "outputs": [
    {
     "name": "stdout",
     "output_type": "stream",
     "text": [
      "X_train:  568\n",
      "X_test:  64\n"
     ]
    }
   ],
   "source": [
    "from sklearn.model_selection import train_test_split\n",
    "X = df_disso30.drop('Dissolution 30 min', axis =1)\n",
    "y = df_disso30['Dissolution 30 min'].copy()\n",
    "\n",
    "X.drop(['Code_year', 'Year'], axis =1, inplace=True) \n",
    "\n",
    "\n",
    "X_train, X_test, y_train, y_test = train_test_split(X, y, test_size=0.1, random_state=42)\n",
    "print('X_train: ', len(X_train))\n",
    "print('X_test: ', len(X_test))"
   ]
  },
  {
   "cell_type": "code",
   "execution_count": null,
   "metadata": {
    "ExecuteTime": {
     "end_time": "2021-01-28T09:52:39.469369Z",
     "start_time": "2021-01-28T09:52:39.409222Z"
    },
    "deletable": false,
    "editable": false,
    "run_control": {
     "frozen": true
    }
   },
   "outputs": [],
   "source": [
    "X_train = df_disso30 [df_disso30['Year']<2020]\n",
    "X_test = df_disso30 [df_disso30['Year']==2020] \n",
    "\n",
    "X_train.drop(['Code_year', 'Year'], axis =1, inplace=True) \n",
    "X_test.drop(['Code_year', 'Year'], axis =1, inplace=True) \n",
    "\n",
    "X_train2 = X_train.drop('Dissolution 30 min', axis =1)\n",
    "y_train = X_train['Dissolution 30 min']\n",
    "X_train = X_train2.copy()\n",
    "\n",
    "X_test2 = X_test.drop('Dissolution 30 min', axis =1)\n",
    "y_test = X_test['Dissolution 30 min']\n",
    "X_test = X_test2.copy()\n",
    "\n",
    "print (X_train.shape)\n",
    "print (y_train.shape)\n",
    "print (X_test.shape)\n",
    "print (y_test.shape)\n",
    "\n"
   ]
  },
  {
   "cell_type": "code",
   "execution_count": null,
   "metadata": {
    "ExecuteTime": {
     "end_time": "2021-01-28T10:00:32.078683Z",
     "start_time": "2021-01-28T10:00:32.056681Z"
    },
    "deletable": false,
    "editable": false,
    "run_control": {
     "frozen": true
    }
   },
   "outputs": [],
   "source": [
    "#All year\n",
    "X_train = df_disso30.copy()\n",
    "X_train.drop(['Code_year', 'Year'], axis =1, inplace=True) \n",
    "X_train2 = X_train.drop('Dissolution 30 min', axis =1)\n",
    "y_train = X_train['Dissolution 30 min']\n",
    "X_train = X_train2.copy()\n",
    "print (X_train.shape)\n",
    "print (y_train.shape)"
   ]
  },
  {
   "cell_type": "code",
   "execution_count": null,
   "metadata": {
    "ExecuteTime": {
     "end_time": "2021-01-28T10:03:21.047558Z",
     "start_time": "2021-01-28T10:03:21.005883Z"
    },
    "deletable": false,
    "editable": false,
    "run_control": {
     "frozen": true
    }
   },
   "outputs": [],
   "source": [
    "#2020\n",
    "X_train = df_disso30 [df_disso30['Year']==2020] .copy()\n",
    "X_train.drop(['Code_year', 'Year'], axis =1, inplace=True) \n",
    "X_train2 = X_train.drop('Dissolution 30 min', axis =1)\n",
    "y_train = X_train['Dissolution 30 min']\n",
    "X_train = X_train2.copy()\n",
    "print (X_train.shape)\n",
    "print (y_train.shape)"
   ]
  },
  {
   "cell_type": "markdown",
   "metadata": {},
   "source": [
    "# Models"
   ]
  },
  {
   "cell_type": "markdown",
   "metadata": {
    "ExecuteTime": {
     "end_time": "2021-01-26T13:14:45.946800Z",
     "start_time": "2021-01-26T13:14:45.873795Z"
    }
   },
   "source": [
    "## RF"
   ]
  },
  {
   "cell_type": "code",
   "execution_count": 13,
   "metadata": {
    "ExecuteTime": {
     "end_time": "2021-02-05T13:47:05.832568Z",
     "start_time": "2021-02-05T13:47:02.855520Z"
    }
   },
   "outputs": [
    {
     "data": {
      "text/plain": [
       "RandomForestRegressor(min_samples_leaf=7, min_samples_split=5, n_estimators=280,\n",
       "                      random_state=42)"
      ]
     },
     "execution_count": 13,
     "metadata": {},
     "output_type": "execute_result"
    }
   ],
   "source": [
    "from sklearn.ensemble import RandomForestRegressor\n",
    "model_rf = RandomForestRegressor(min_samples_leaf=7,\n",
    "                      min_samples_split=5,\n",
    "                      n_estimators=280,random_state=42,  criterion='mse')\n",
    "model_rf.fit(X_train, y_train)\n"
   ]
  },
  {
   "cell_type": "code",
   "execution_count": 14,
   "metadata": {
    "ExecuteTime": {
     "end_time": "2021-02-05T13:47:26.180024Z",
     "start_time": "2021-02-05T13:47:05.839565Z"
    }
   },
   "outputs": [
    {
     "name": "stdout",
     "output_type": "stream",
     "text": [
      "MAE on train=  1.38733858522691\n",
      "MAX on train=  5.091542677386549\n"
     ]
    },
    {
     "data": {
      "text/plain": [
       "<AxesSubplot:>"
      ]
     },
     "execution_count": 14,
     "metadata": {},
     "output_type": "execute_result"
    },
    {
     "data": {
      "image/png": "[encoded data removed]",
      "text/plain": [
       "<Figure size 432x288 with 1 Axes>"
      ]
     },
     "metadata": {
      "needs_background": "light"
     },
     "output_type": "display_data"
    },
    {
     "data": {
      "image/png": "[encoded data removed]",
      "text/plain": [
       "<Figure size 432x288 with 1 Axes>"
      ]
     },
     "metadata": {
      "needs_background": "light"
     },
     "output_type": "display_data"
    }
   ],
   "source": [
    "y_train_pred = model_rf.predict(X_train)\n",
    "from sklearn.metrics import mean_absolute_error\n",
    "mae_train = mean_absolute_error(y_train, y_train_pred)\n",
    "error_train = y_train - y_train_pred\n",
    "mx_train = np.max(error_train)\n",
    "\n",
    "print('MAE on train= ',mae_train )\n",
    "print('MAX on train= ',mx_train)\n",
    "pd.DataFrame(error_train).plot.bar()\n",
    "\n",
    "df = pd.concat([pd.DataFrame(y_train).reset_index(drop=True),pd.DataFrame(y_train_pred)])\n",
    "df.plot()"
   ]
  },
  {
   "cell_type": "markdown",
   "metadata": {},
   "source": [
    "### feature importance"
   ]
  },
  {
   "cell_type": "code",
   "execution_count": 15,
   "metadata": {
    "ExecuteTime": {
     "end_time": "2021-02-05T13:47:27.080126Z",
     "start_time": "2021-02-05T13:47:26.185557Z"
    }
   },
   "outputs": [
    {
     "name": "stdout",
     "output_type": "stream",
     "text": [
      "Humidite_finale 0.037493765347866956\n",
      "Temps_de_granulation 0.034010503251084866\n",
      "Temps_de_mouillage 0.037881434915229946\n",
      "Temps_de_melange 0.0072731289472402596\n",
      "Temps_de_sechage 0.046112366216718846\n",
      "Temperature_enceinte_GRANULATION 0.028751796364462553\n",
      "Temperature_enceinte_MELANGE 0.3631718273299207\n",
      "Temperature_enceinte_MOUILLAGE 0.022855546054021566\n",
      "Temperature_entree_REFROIDISSEMENT 0.03331789434652345\n",
      "Temperature_entree_SECHAGE 0.04040265537671272\n",
      "Temperature_sortie_REFROIDISSEMENT 0.0364838655850065\n",
      "Temperature_sortie_SECHAGE 0.03048474858242085\n",
      "Debit_air_REFROIDISSEMENT 0.049638827010920816\n",
      "Debit_air_SECHAGE 0.05604994539977406\n",
      "Puissance_GRANULATION 0.035698374088518135\n",
      "Puissance_MELANGE 0.08533424545252456\n",
      "Puissance_MOUILLAGE 0.0550390757310533\n"
     ]
    },
    {
     "data": {
      "image/png": "[encoded data removed]",
      "text/plain": [
       "<Figure size 432x288 with 1 Axes>"
      ]
     },
     "metadata": {
      "needs_background": "light"
     },
     "output_type": "display_data"
    }
   ],
   "source": [
    "from matplotlib import pyplot\n",
    "# get importance\n",
    "importance = model_rf.feature_importances_\n",
    "# summarize feature importance\n",
    "for i,v in zip(X_train.columns,importance):\n",
    "    print(i,v)\n",
    "# plot feature importance\n",
    "#pyplot.bar(X_train.columns, importance)\n",
    "#pyplot.show()\n",
    "\n",
    "plt.barh(X_train.columns, importance, align='center')\n",
    "pyplot.show()"
   ]
  },
  {
   "cell_type": "markdown",
   "metadata": {},
   "source": [
    "### Evaluation"
   ]
  },
  {
   "cell_type": "code",
   "execution_count": 16,
   "metadata": {
    "ExecuteTime": {
     "end_time": "2021-02-05T13:47:30.277197Z",
     "start_time": "2021-02-05T13:47:27.084178Z"
    }
   },
   "outputs": [
    {
     "name": "stdout",
     "output_type": "stream",
     "text": [
      "MAE =  2.5488260220009082\n",
      "\n",
      "Error mean =  -0.1898301085833557\n",
      "Error std =  2.959835826042195\n",
      "Error min =  -4.863819226589968\n",
      "Error max =  6.110113029888829\n"
     ]
    },
    {
     "data": {
      "text/plain": [
       "<AxesSubplot:>"
      ]
     },
     "execution_count": 16,
     "metadata": {},
     "output_type": "execute_result"
    },
    {
     "data": {
      "image/png": "[encoded data removed]",
      "text/plain": [
       "<Figure size 432x288 with 1 Axes>"
      ]
     },
     "metadata": {
      "needs_background": "light"
     },
     "output_type": "display_data"
    },
    {
     "data": {
      "image/png": "[encoded data removed]",
      "text/plain": [
       "<Figure size 432x288 with 1 Axes>"
      ]
     },
     "metadata": {
      "needs_background": "light"
     },
     "output_type": "display_data"
    }
   ],
   "source": [
    "y_test_pred = model_rf.predict(X_test)\n",
    "from sklearn.metrics import mean_absolute_error\n",
    "mae = mean_absolute_error(y_test, y_test_pred)\n",
    "error = y_test - y_test_pred\n",
    "error_mx = np.max(error)\n",
    "error_mn = np.min(error)\n",
    "error_std = np.std(error)\n",
    "error_mean =  np.mean(error)\n",
    "\n",
    "print('MAE = ',mae)\n",
    "print()\n",
    "print('Error mean = ', error_mean )\n",
    "print('Error std = ', error_std)\n",
    "print('Error min = ', error_mn)\n",
    "print('Error max = ', error_mx)\n",
    "\n",
    "pd.DataFrame(error).plot.bar()\n",
    "\n",
    "df2 = pd.concat([pd.DataFrame(y_test).reset_index(drop=True),pd.DataFrame(y_test_pred)], axis =1)\n",
    "df2.plot()"
   ]
  },
  {
   "cell_type": "markdown",
   "metadata": {},
   "source": [
    "### save model"
   ]
  },
  {
   "cell_type": "code",
   "execution_count": 17,
   "metadata": {
    "ExecuteTime": {
     "end_time": "2021-02-05T13:47:30.295099Z",
     "start_time": "2021-02-05T13:47:30.287097Z"
    }
   },
   "outputs": [],
   "source": [
    "model_toSave = model_rf  \n",
    "filename = 'models/rf_v0.sav'"
   ]
  },
  {
   "cell_type": "code",
   "execution_count": 18,
   "metadata": {
    "ExecuteTime": {
     "end_time": "2021-02-05T13:47:30.769830Z",
     "start_time": "2021-02-05T13:47:30.300096Z"
    }
   },
   "outputs": [
    {
     "data": {
      "text/plain": [
       "['models/rf_v0.sav']"
      ]
     },
     "execution_count": 18,
     "metadata": {},
     "output_type": "execute_result"
    }
   ],
   "source": [
    "import joblib\n",
    "joblib.dump(model_toSave, filename)"
   ]
  },
  {
   "cell_type": "markdown",
   "metadata": {},
   "source": [
    "## xgboost"
   ]
  },
  {
   "cell_type": "code",
   "execution_count": 19,
   "metadata": {
    "ExecuteTime": {
     "end_time": "2021-02-05T13:47:31.923652Z",
     "start_time": "2021-02-05T13:47:30.778826Z"
    }
   },
   "outputs": [
    {
     "data": {
      "text/plain": [
       "XGBRegressor(base_score=0.5, booster='gbtree', colsample_bylevel=1,\n",
       "             colsample_bynode=1, colsample_bytree=1, gamma=0, gpu_id=-1,\n",
       "             importance_type='gain', interaction_constraints='',\n",
       "             learning_rate=0.300000012, max_delta_step=0, max_depth=6,\n",
       "             min_child_weight=1, missing=nan, monotone_constraints='()',\n",
       "             n_estimators=100, n_jobs=4, num_parallel_tree=1, random_state=0,\n",
       "             reg_alpha=0, reg_lambda=1, scale_pos_weight=1, subsample=1,\n",
       "             tree_method='exact', validate_parameters=1, verbosity=None)"
      ]
     },
     "execution_count": 19,
     "metadata": {},
     "output_type": "execute_result"
    }
   ],
   "source": [
    "import xgboost as xgb\n",
    "model_xgb = xgb.XGBRegressor()\n",
    "model_xgb.fit(X_train, y_train)"
   ]
  },
  {
   "cell_type": "code",
   "execution_count": 20,
   "metadata": {
    "ExecuteTime": {
     "end_time": "2021-02-05T13:47:53.012728Z",
     "start_time": "2021-02-05T13:47:31.931657Z"
    }
   },
   "outputs": [
    {
     "name": "stdout",
     "output_type": "stream",
     "text": [
      "MAE on train=  0.01789525305161372\n",
      "MAX on train=  0.10155995686845642\n"
     ]
    },
    {
     "data": {
      "text/plain": [
       "<AxesSubplot:>"
      ]
     },
     "execution_count": 20,
     "metadata": {},
     "output_type": "execute_result"
    },
    {
     "data": {
      "image/png": "[encoded data removed]",
      "text/plain": [
       "<Figure size 432x288 with 1 Axes>"
      ]
     },
     "metadata": {
      "needs_background": "light"
     },
     "output_type": "display_data"
    },
    {
     "data": {
      "image/png": "[encoded data removed]",
      "text/plain": [
       "<Figure size 432x288 with 1 Axes>"
      ]
     },
     "metadata": {
      "needs_background": "light"
     },
     "output_type": "display_data"
    }
   ],
   "source": [
    "y_train_pred = model_xgb.predict(X_train)\n",
    "from sklearn.metrics import mean_absolute_error\n",
    "mae_train = mean_absolute_error(y_train, y_train_pred)\n",
    "error_train = y_train - y_train_pred\n",
    "mx_train = np.max(error_train)\n",
    "\n",
    "print('MAE on train= ',mae_train )\n",
    "print('MAX on train= ',mx_train)\n",
    "pd.DataFrame(error_train).plot.bar()\n",
    "\n",
    "df = pd.concat([pd.DataFrame(y_train).reset_index(drop=True),pd.DataFrame(y_train_pred)], axis =1)\n",
    "df.plot()"
   ]
  },
  {
   "cell_type": "markdown",
   "metadata": {},
   "source": [
    "### feature importance"
   ]
  },
  {
   "cell_type": "code",
   "execution_count": 21,
   "metadata": {
    "ExecuteTime": {
     "end_time": "2021-02-05T13:47:53.916529Z",
     "start_time": "2021-02-05T13:47:53.019727Z"
    }
   },
   "outputs": [
    {
     "name": "stdout",
     "output_type": "stream",
     "text": [
      "Humidite_finale 0.016010022\n",
      "Temps_de_granulation 0.037005067\n",
      "Temps_de_mouillage 0.052515548\n",
      "Temps_de_melange 0.021589251\n",
      "Temps_de_sechage 0.052431237\n",
      "Temperature_enceinte_GRANULATION 0.047912654\n",
      "Temperature_enceinte_MELANGE 0.1733977\n",
      "Temperature_enceinte_MOUILLAGE 0.043513235\n",
      "Temperature_entree_REFROIDISSEMENT 0.056515377\n",
      "Temperature_entree_SECHAGE 0.043811753\n",
      "Temperature_sortie_REFROIDISSEMENT 0.048632383\n",
      "Temperature_sortie_SECHAGE 0.06315037\n",
      "Debit_air_REFROIDISSEMENT 0.07705169\n",
      "Debit_air_SECHAGE 0.063644156\n",
      "Puissance_GRANULATION 0.042984385\n",
      "Puissance_MELANGE 0.092476085\n",
      "Puissance_MOUILLAGE 0.06735913\n"
     ]
    },
    {
     "data": {
      "image/png": "[encoded data removed]",
      "text/plain": [
       "<Figure size 432x288 with 1 Axes>"
      ]
     },
     "metadata": {
      "needs_background": "light"
     },
     "output_type": "display_data"
    }
   ],
   "source": [
    "from matplotlib import pyplot\n",
    "# get importance\n",
    "importance = model_xgb.feature_importances_\n",
    "# summarize feature importance\n",
    "for i,v in zip(X_train.columns,importance):\n",
    "    print(i,v)\n",
    "# plot feature importance\n",
    "plt.barh(X_train.columns, importance, align='center')\n",
    "pyplot.show()"
   ]
  },
  {
   "cell_type": "markdown",
   "metadata": {},
   "source": [
    "### Evaluation"
   ]
  },
  {
   "cell_type": "code",
   "execution_count": 22,
   "metadata": {
    "ExecuteTime": {
     "end_time": "2021-02-05T13:47:58.897199Z",
     "start_time": "2021-02-05T13:47:53.923530Z"
    }
   },
   "outputs": [
    {
     "name": "stdout",
     "output_type": "stream",
     "text": [
      "MAE =  2.6940505107243835\n",
      "\n",
      "Error mean =  -0.06918370723724054\n",
      "Error std =  3.1954826694099228\n",
      "Error max =  7.0076141357421875\n"
     ]
    },
    {
     "data": {
      "text/plain": [
       "<AxesSubplot:>"
      ]
     },
     "execution_count": 22,
     "metadata": {},
     "output_type": "execute_result"
    },
    {
     "data": {
      "image/png": "[encoded data removed]",
      "text/plain": [
       "<Figure size 432x288 with 1 Axes>"
      ]
     },
     "metadata": {
      "needs_background": "light"
     },
     "output_type": "display_data"
    },
    {
     "data": {
      "image/png": "[encoded data removed]",
      "text/plain": [
       "<Figure size 432x288 with 1 Axes>"
      ]
     },
     "metadata": {
      "needs_background": "light"
     },
     "output_type": "display_data"
    }
   ],
   "source": [
    "y_test_pred = model_xgb.predict(X_test)\n",
    "from sklearn.metrics import mean_absolute_error\n",
    "mae = mean_absolute_error(y_test, y_test_pred)\n",
    "error = y_test - y_test_pred\n",
    "error_mx = np.max(error)\n",
    "error_std = np.std(error)\n",
    "error_mean =  np.mean(error)\n",
    "\n",
    "print('MAE = ',mae)\n",
    "print()\n",
    "print('Error mean = ', error_mean )\n",
    "print('Error std = ', error_std)\n",
    "print('Error max = ', error_mx)\n",
    "pd.DataFrame(error).plot.bar()\n",
    "\n",
    "df2 = pd.concat([pd.DataFrame(y_test).reset_index(drop=True),pd.DataFrame(y_test_pred)], axis =1)\n",
    "df2.plot()"
   ]
  },
  {
   "cell_type": "markdown",
   "metadata": {},
   "source": [
    "## SVM"
   ]
  },
  {
   "cell_type": "code",
   "execution_count": 23,
   "metadata": {
    "ExecuteTime": {
     "end_time": "2021-02-05T13:48:12.569220Z",
     "start_time": "2021-02-05T13:47:58.911200Z"
    }
   },
   "outputs": [
    {
     "data": {
      "text/plain": [
       "SVR(kernel='linear')"
      ]
     },
     "execution_count": 23,
     "metadata": {},
     "output_type": "execute_result"
    }
   ],
   "source": [
    "from sklearn.svm import SVR\n",
    "model_svr = SVR(kernel = 'linear')\n",
    "model_svr.fit(X_train, y_train)"
   ]
  },
  {
   "cell_type": "code",
   "execution_count": 24,
   "metadata": {
    "ExecuteTime": {
     "end_time": "2021-02-05T13:48:31.861780Z",
     "start_time": "2021-02-05T13:48:12.576218Z"
    }
   },
   "outputs": [
    {
     "name": "stdout",
     "output_type": "stream",
     "text": [
      "MAE on train=  4.7184286991515485\n",
      "MAX on train=  21.985174445007814\n"
     ]
    },
    {
     "data": {
      "text/plain": [
       "<AxesSubplot:>"
      ]
     },
     "execution_count": 24,
     "metadata": {},
     "output_type": "execute_result"
    },
    {
     "data": {
      "image/png": "[encoded data removed]",
      "text/plain": [
       "<Figure size 432x288 with 1 Axes>"
      ]
     },
     "metadata": {
      "needs_background": "light"
     },
     "output_type": "display_data"
    },
    {
     "data": {
      "image/png": "[encoded data removed]",
      "text/plain": [
       "<Figure size 432x288 with 1 Axes>"
      ]
     },
     "metadata": {
      "needs_background": "light"
     },
     "output_type": "display_data"
    }
   ],
   "source": [
    "y_train_pred = model_svr.predict(X_train)\n",
    "from sklearn.metrics import mean_absolute_error\n",
    "mae_train = mean_absolute_error(y_train, y_train_pred)\n",
    "error_train = y_train - y_train_pred\n",
    "mx_train = np.max(error_train)\n",
    "\n",
    "print('MAE on train= ',mae_train )\n",
    "print('MAX on train= ',mx_train)\n",
    "pd.DataFrame(error_train).plot.bar()\n",
    "\n",
    "df = pd.concat([pd.DataFrame(y_train).reset_index(drop=True),pd.DataFrame(y_train_pred)])\n",
    "df.plot()"
   ]
  },
  {
   "cell_type": "markdown",
   "metadata": {},
   "source": [
    "### feature importance"
   ]
  },
  {
   "cell_type": "code",
   "execution_count": 25,
   "metadata": {
    "ExecuteTime": {
     "end_time": "2021-02-05T13:48:32.641982Z",
     "start_time": "2021-02-05T13:48:31.868302Z"
    }
   },
   "outputs": [
    {
     "data": {
      "image/png": "[encoded data removed]",
      "text/plain": [
       "<Figure size 432x288 with 1 Axes>"
      ]
     },
     "metadata": {
      "needs_background": "light"
     },
     "output_type": "display_data"
    }
   ],
   "source": [
    "def f_importances(coef, names):\n",
    "    imp = coef\n",
    "    imp,names = zip(*sorted(zip(imp,names)))\n",
    "    plt.barh(range(len(names)), imp, align='center')\n",
    "    plt.yticks(range(len(names)), names)\n",
    "    plt.show()\n",
    "    \n",
    "f_importances(model_svr.coef_[0], list(X_train.columns))"
   ]
  },
  {
   "cell_type": "markdown",
   "metadata": {},
   "source": [
    "###  optimization"
   ]
  },
  {
   "cell_type": "code",
   "execution_count": null,
   "metadata": {
    "ExecuteTime": {
     "end_time": "2021-01-28T09:23:15.969786Z",
     "start_time": "2021-01-28T09:19:53.004859Z"
    },
    "deletable": false,
    "editable": false,
    "run_control": {
     "frozen": true
    }
   },
   "outputs": [],
   "source": [
    "from sklearn.model_selection import GridSearchCV\n",
    "from scipy.stats import uniform\n",
    "\n",
    "#uniform(loc=0, scale=2)\n",
    "param = {'C': [1],\n",
    "        'epsilon' : [0],\n",
    "         'coef0':[0.0]\n",
    "}\n",
    "model_svr_opti = GridSearchCV(model_svr, param, scoring ='neg_mean_squared_error')\n",
    "search = model_svr_opti.fit(X_train, y_train)\n",
    "search.best_params_"
   ]
  },
  {
   "cell_type": "markdown",
   "metadata": {},
   "source": [
    "###  pipeline"
   ]
  },
  {
   "cell_type": "code",
   "execution_count": 26,
   "metadata": {
    "ExecuteTime": {
     "end_time": "2021-02-05T13:48:32.760501Z",
     "start_time": "2021-02-05T13:48:32.645982Z"
    }
   },
   "outputs": [
    {
     "data": {
      "text/plain": [
       "Pipeline(steps=[('standardscaler', StandardScaler()),\n",
       "                ('svr', SVR(kernel='linear'))])"
      ]
     },
     "execution_count": 26,
     "metadata": {},
     "output_type": "execute_result"
    }
   ],
   "source": [
    "from sklearn.pipeline import make_pipeline\n",
    "from sklearn.preprocessing import StandardScaler\n",
    "model_svr_pip = make_pipeline(StandardScaler(), SVR(kernel='linear'))\n",
    "model_svr_pip.fit(X_train, y_train)"
   ]
  },
  {
   "cell_type": "markdown",
   "metadata": {
    "ExecuteTime": {
     "end_time": "2021-01-28T08:34:39.821806Z",
     "start_time": "2021-01-28T08:34:39.816781Z"
    }
   },
   "source": [
    "### evaluation"
   ]
  },
  {
   "cell_type": "code",
   "execution_count": 27,
   "metadata": {
    "ExecuteTime": {
     "end_time": "2021-02-05T13:48:36.737377Z",
     "start_time": "2021-02-05T13:48:32.766509Z"
    }
   },
   "outputs": [
    {
     "name": "stdout",
     "output_type": "stream",
     "text": [
      "MAE =  2.6096228932771393\n",
      "\n",
      "Error mean =  -0.12562478881834283\n",
      "Error std =  3.0665477320127152\n",
      "Error min =  -5.665005129845895\n",
      "Error max =  6.259282346789668\n"
     ]
    },
    {
     "data": {
      "text/plain": [
       "<AxesSubplot:>"
      ]
     },
     "execution_count": 27,
     "metadata": {},
     "output_type": "execute_result"
    },
    {
     "data": {
      "image/png": "[encoded data removed]",
      "text/plain": [
       "<Figure size 432x288 with 1 Axes>"
      ]
     },
     "metadata": {
      "needs_background": "light"
     },
     "output_type": "display_data"
    },
    {
     "data": {
      "image/png": "[encoded data removed]",
      "text/plain": [
       "<Figure size 432x288 with 1 Axes>"
      ]
     },
     "metadata": {
      "needs_background": "light"
     },
     "output_type": "display_data"
    }
   ],
   "source": [
    "y_test_pred = model_svr_pip.predict(X_test)\n",
    "from sklearn.metrics import mean_absolute_error\n",
    "mae = mean_absolute_error(y_test, y_test_pred)\n",
    "error = y_test - y_test_pred\n",
    "error_mx = np.max(error)\n",
    "error_mn = np.min(error)\n",
    "error_std = np.std(error)\n",
    "error_mean =  np.mean(error)\n",
    "\n",
    "print('MAE = ',mae)\n",
    "print()\n",
    "print('Error mean = ', error_mean )\n",
    "print('Error std = ', error_std)\n",
    "print('Error min = ', error_mn)\n",
    "print('Error max = ', error_mx)\n",
    "\n",
    "\n",
    "df_ypred = pd.DataFrame(y_test_pred)\n",
    "df_ypred.columns = ['Predicted']\n",
    "\n",
    "pd.DataFrame(error).plot.bar()\n",
    "\n",
    "df2 = pd.concat([pd.DataFrame(y_test).reset_index(drop=True),df_ypred], axis =1)\n",
    "df2.plot()"
   ]
  },
  {
   "cell_type": "markdown",
   "metadata": {},
   "source": [
    "### save model"
   ]
  },
  {
   "cell_type": "code",
   "execution_count": 28,
   "metadata": {
    "ExecuteTime": {
     "end_time": "2021-02-05T13:48:36.748289Z",
     "start_time": "2021-02-05T13:48:36.739463Z"
    }
   },
   "outputs": [],
   "source": [
    "model_toSave = model_svr_pip  \n",
    "filename = 'models/svr_v0.sav'"
   ]
  },
  {
   "cell_type": "code",
   "execution_count": 29,
   "metadata": {
    "ExecuteTime": {
     "end_time": "2021-02-05T13:48:36.787289Z",
     "start_time": "2021-02-05T13:48:36.757288Z"
    }
   },
   "outputs": [
    {
     "data": {
      "text/plain": [
       "['models/svr_v0.sav']"
      ]
     },
     "execution_count": 29,
     "metadata": {},
     "output_type": "execute_result"
    }
   ],
   "source": [
    "import joblib\n",
    "joblib.dump(model_toSave, filename)"
   ]
  },
  {
   "cell_type": "markdown",
   "metadata": {},
   "source": [
    "## NN"
   ]
  },
  {
   "cell_type": "code",
   "execution_count": 30,
   "metadata": {
    "ExecuteTime": {
     "end_time": "2021-02-05T13:51:51.895650Z",
     "start_time": "2021-02-05T13:48:36.792289Z"
    }
   },
   "outputs": [
    {
     "name": "stdout",
     "output_type": "stream",
     "text": [
      "Model: \"sequential\"\n",
      "_________________________________________________________________\n",
      "Layer (type)                 Output Shape              Param #   \n",
      "=================================================================\n",
      "dense (Dense)                (None, 17)                306       \n",
      "_________________________________________________________________\n",
      "dense_1 (Dense)              (None, 1)                 18        \n",
      "=================================================================\n",
      "Total params: 324\n",
      "Trainable params: 324\n",
      "Non-trainable params: 0\n",
      "_________________________________________________________________\n"
     ]
    },
    {
     "data": {
      "image/png": "[encoded data removed]",
      "text/plain": [
       "<Figure size 576x360 with 1 Axes>"
      ]
     },
     "metadata": {
      "needs_background": "light"
     },
     "output_type": "display_data"
    }
   ],
   "source": [
    "\n",
    "#import keras\n",
    "\n",
    "\n",
    "import tensorflow as tf\n",
    "from tensorflow.keras.models import Sequential\n",
    "from tensorflow.keras.layers import Input\n",
    "from tensorflow.keras.layers import Dense\n",
    "from tensorflow.keras import regularizers\n",
    "from tensorflow.keras.optimizers import SGD\n",
    "\n",
    "#to generate the same number every time you need to pass the same seed value every time\n",
    "#Make results reproducible -> fix seed of TensorFlow's random number generator\n",
    "tf.keras.backend.clear_session()\n",
    "from numpy import random as np_random\n",
    "np_random.seed(42)\n",
    "from tensorflow import random as tf_random\n",
    "tf_random.set_seed(42)\n",
    "\n",
    "\n",
    "#from sklearn.preprocessing import StandardScaler\n",
    "# scaler = StandardScaler()\n",
    "# X_train_transf = scaler.fit_transform(X_train)\n",
    "# y_train_log = y_train.copy()\n",
    "# y_train_log_transf = scaler.fit_transform(y_train_log)\n",
    "\n",
    "# X_val_transf = scaler.fit_transform(X_val)\n",
    "# y_val_log = y_val.copy()\n",
    "# y_val_log_transf = scaler.fit_transform(y_val_log)\n",
    "\n",
    "X_train_nn = np.asarray(X_train)\n",
    "y_train_nn = np.asarray(y_train)\n",
    "X_test_nn = np.asarray(X_test)\n",
    "y_test_nn = np.asarray(y_test)\n",
    "\n",
    "\n",
    "\n",
    "\n",
    "\n",
    "n_input = X_train_nn.shape[1]\n",
    "\n",
    "#The model\n",
    "model_NN = Sequential()\n",
    "model_NN.add (Dense (n_input,\n",
    "                    input_dim=n_input,\n",
    "                    activation = 'relu')\n",
    "             )\n",
    "\n",
    "#model_NN.add (Dense(n_input)) \n",
    "\n",
    "#model_NN.add (Dense(n_input//2)) \n",
    "\n",
    "model_NN.add (Dense(1))\n",
    "\n",
    "\n",
    "\n",
    "#Compile\n",
    "loss ='mean_squared_error'\n",
    "model_NN.compile(loss=loss, optimizer='adam')\n",
    "\n",
    "\n",
    "model_NN.summary()\n",
    "\n",
    "#fit\n",
    "eph = 1000\n",
    "#bch = (X_train.shape[0])//3\n",
    "\n",
    "history = model_NN.fit(\n",
    "                    X_train_nn, \n",
    "                    y_train_nn, \n",
    "                    validation_data=(X_test_nn, y_test_nn), \n",
    "                    epochs=eph, \n",
    "#                    batch_size=bch, \n",
    "                    verbose=0)\n",
    "\n",
    "pd.DataFrame(history.history).plot(figsize=(8, 5))\n",
    "plt.grid(True)\n",
    "plt.title('Model performance throughout training')\n",
    "#plt.ylim(0,1)\n",
    "plt.ylabel('Loss')\n",
    "plt.xlabel('epoch')\n",
    "plt.show()\n",
    "\n",
    "\n"
   ]
  },
  {
   "cell_type": "markdown",
   "metadata": {},
   "source": [
    "### feature importance"
   ]
  },
  {
   "cell_type": "code",
   "execution_count": null,
   "metadata": {
    "ExecuteTime": {
     "end_time": "2021-01-27T17:15:45.414240Z",
     "start_time": "2021-01-27T17:15:45.259875Z"
    },
    "deletable": false,
    "editable": false,
    "run_control": {
     "frozen": true
    }
   },
   "outputs": [],
   "source": [
    "import shap\n",
    "\n",
    "# load your data here, e.g. X and y\n",
    "# create and fit your model here\n",
    "\n",
    "# load JS visualization code to notebook\n",
    "shap.initjs()\n",
    "\n",
    "# explain the model's predictions using SHAP\n",
    "# (same syntax works for LightGBM, CatBoost, scikit-learn and spark models)\n",
    "explainer = shap.DeepExplainer(model_NN, X_train)\n",
    "shap_values = explainer.shap_values(X_train)\n",
    "\n",
    "# visualize the first prediction's explanation (use matplotlib=True to avoid Javascript)\n",
    "#shap.force_plot(explainer.expected_value, shap_values[0,:], X_train.iloc[0,:])\n",
    "\n",
    "shap.summary_plot(shap_values, X_train, plot_type=\"bar\")"
   ]
  },
  {
   "cell_type": "markdown",
   "metadata": {
    "ExecuteTime": {
     "end_time": "2021-01-27T12:21:24.928592Z",
     "start_time": "2021-01-27T12:21:24.923593Z"
    }
   },
   "source": [
    "### Evaluation"
   ]
  },
  {
   "cell_type": "code",
   "execution_count": 31,
   "metadata": {
    "ExecuteTime": {
     "end_time": "2021-02-05T13:51:56.650794Z",
     "start_time": "2021-02-05T13:51:51.896162Z"
    }
   },
   "outputs": [
    {
     "name": "stdout",
     "output_type": "stream",
     "text": [
      "MAE =  2.7228504618008973\n",
      "\n",
      "Error mean =  -1.2880675196647613\n",
      "Error std =  2.9146480055864834\n",
      "Error min =  -6.0054461161295905\n",
      "Error max =  4.752688090006544\n"
     ]
    },
    {
     "data": {
      "text/plain": [
       "<AxesSubplot:>"
      ]
     },
     "execution_count": 31,
     "metadata": {},
     "output_type": "execute_result"
    },
    {
     "data": {
      "image/png": "[encoded data removed]",
      "text/plain": [
       "<Figure size 432x288 with 1 Axes>"
      ]
     },
     "metadata": {
      "needs_background": "light"
     },
     "output_type": "display_data"
    },
    {
     "data": {
      "image/png": "[encoded data removed]",
      "text/plain": [
       "<Figure size 432x288 with 1 Axes>"
      ]
     },
     "metadata": {
      "needs_background": "light"
     },
     "output_type": "display_data"
    }
   ],
   "source": [
    "y_test_pred = model_NN.predict(X_test_nn)\n",
    "y_test_pred = y_test_pred[:,0]\n",
    "from sklearn.metrics import mean_absolute_error\n",
    "mae = mean_absolute_error(y_test, y_test_pred)\n",
    "error = y_test - y_test_pred\n",
    "error_mx = np.max(error)\n",
    "error_mn = np.min(error)\n",
    "error_std = np.std(error)\n",
    "error_mean =  np.mean(error)\n",
    "\n",
    "print('MAE = ',mae)\n",
    "print()\n",
    "print('Error mean = ', error_mean )\n",
    "print('Error std = ', error_std)\n",
    "print('Error min = ', error_mn)\n",
    "print('Error max = ', error_mx)\n",
    "\n",
    "\n",
    "pd.DataFrame(error).plot.bar()\n",
    "\n",
    "df2 = pd.concat([pd.DataFrame(y_test).reset_index(drop=True),pd.DataFrame(y_test_pred)], axis =1)\n",
    "df2.plot()"
   ]
  },
  {
   "cell_type": "markdown",
   "metadata": {
    "ExecuteTime": {
     "end_time": "2021-01-27T14:31:09.650959Z",
     "start_time": "2021-01-27T14:31:09.642958Z"
    }
   },
   "source": [
    "### save tensorflow models"
   ]
  },
  {
   "cell_type": "code",
   "execution_count": 32,
   "metadata": {
    "ExecuteTime": {
     "end_time": "2021-02-05T13:51:56.663737Z",
     "start_time": "2021-02-05T13:51:56.656737Z"
    }
   },
   "outputs": [],
   "source": [
    "filename = 'models/nn_tf_v0.h5'"
   ]
  },
  {
   "cell_type": "code",
   "execution_count": 33,
   "metadata": {
    "ExecuteTime": {
     "end_time": "2021-02-05T13:51:56.863740Z",
     "start_time": "2021-02-05T13:51:56.670738Z"
    }
   },
   "outputs": [],
   "source": [
    "# Save\n",
    "model_NN.save(filename)"
   ]
  },
  {
   "cell_type": "markdown",
   "metadata": {},
   "source": [
    "## Load models"
   ]
  },
  {
   "cell_type": "code",
   "execution_count": null,
   "metadata": {
    "ExecuteTime": {
     "end_time": "2021-01-27T10:54:22.542261Z",
     "start_time": "2021-01-27T10:54:22.396664Z"
    },
    "deletable": false,
    "editable": false,
    "run_control": {
     "frozen": true
    }
   },
   "outputs": [],
   "source": [
    "loaded_model = joblib.load(filename)\n",
    "y_test_pred_load = loaded_model.predict(X_test)\n",
    "mae2 = mean_absolute_error(y_test, y_test_pred_load)\n",
    "print('MAE= ',mae2 )"
   ]
  },
  {
   "cell_type": "markdown",
   "metadata": {},
   "source": [
    "### new X to preidct"
   ]
  },
  {
   "cell_type": "code",
   "execution_count": null,
   "metadata": {
    "ExecuteTime": {
     "end_time": "2021-01-27T10:55:35.810017Z",
     "start_time": "2021-01-27T10:55:35.796013Z"
    },
    "deletable": false,
    "editable": false,
    "run_control": {
     "frozen": true
    }
   },
   "outputs": [],
   "source": [
    "Humidite_finale = 2.69\n",
    "Temps_de_granulation=0.00118827160493827\n",
    "Temps_de_mouillage=0.0003125\n",
    "Temps_de_melange=0.00142361111111111\n",
    "Temps_de_sechage=0.0613387345679012\n",
    "Temperature_enceinte_GRANULATION=25.2433333333333\n",
    "Temperature_enceinte_MELANGE=15.2166666666667\n",
    "Temperature_enceinte_MOUILLAGE=25.5366666666667\n",
    "Temperature_entree_REFROIDISSEMENT=30.4733333333333\n",
    "Temperature_entree_SECHAGE=8.01\n",
    "Temperature_sortie_REFROIDISSEMENT=38.97\n",
    "Temperature_sortie_SECHAGE=8.0333333333333\n",
    "Debit_air_REFROIDISSEMENT=4350.34333333333\n",
    "Debit_air_SECHAGE=4292.4\n",
    "Puissance_GRANULATION=4.46166666666667\n",
    "Puissance_MELANGE=5.47\n",
    "Puissance_MOUILLAGE=2.61666666666667\n"
   ]
  },
  {
   "cell_type": "code",
   "execution_count": 34,
   "metadata": {
    "ExecuteTime": {
     "end_time": "2021-02-05T13:51:56.887738Z",
     "start_time": "2021-02-05T13:51:56.868740Z"
    }
   },
   "outputs": [],
   "source": [
    "X_toPred0 = {\n",
    "    \"Humidite_finale\" : [0] ,\n",
    "    \"Temps_de_granulation\":[0],\n",
    "    \"Temps_de_mouillage\":[0],\n",
    "    \"Temps_de_melange\":[0],\n",
    "    \"Temps_de_sechage\":[0],\n",
    "    \"Temperature_enceinte_GRANULATION\":[0],\n",
    "    \"Temperature_enceinte_MELANGE\":[0],\n",
    "    \"Temperature_enceinte_MOUILLAGE\":[0],\n",
    "    \"Temperature_entree_REFROIDISSEMENT\":[0],\n",
    "    \"Temperature_entree_SECHAGE\":[0],\n",
    "    \"Temperature_sortie_REFROIDISSEMENT\":[0],\n",
    "    \"Temperature_sortie_SECHAGE\":[0],\n",
    "    \"Debit_air_REFROIDISSEMENT\":[0],\n",
    "    \"Debit_air_SECHAGE\":[0],\n",
    "    \"Puissance_GRANULATION\":[0],\n",
    "    \"Puissance_MELANGE\":[0],\n",
    "    \"Puissance_MOUILLAGE\":[0]    \n",
    "}\n",
    "\n",
    "X_toPred0 = pd.DataFrame(X_toPred0)\n"
   ]
  },
  {
   "cell_type": "code",
   "execution_count": 35,
   "metadata": {
    "ExecuteTime": {
     "end_time": "2021-02-05T13:51:56.971739Z",
     "start_time": "2021-02-05T13:51:56.893741Z"
    }
   },
   "outputs": [
    {
     "data": {
      "text/html": [
       "<div>\n",
       "<style scoped>\n",
       "    .dataframe tbody tr th:only-of-type {\n",
       "        vertical-align: middle;\n",
       "    }\n",
       "\n",
       "    .dataframe tbody tr th {\n",
       "        vertical-align: top;\n",
       "    }\n",
       "\n",
       "    .dataframe thead th {\n",
       "        text-align: right;\n",
       "    }\n",
       "</style>\n",
       "<table border=\"1\" class=\"dataframe\">\n",
       "  <thead>\n",
       "    <tr style=\"text-align: right;\">\n",
       "      <th></th>\n",
       "      <th>Humidite_finale</th>\n",
       "      <th>Temps_de_granulation</th>\n",
       "      <th>Temps_de_mouillage</th>\n",
       "      <th>Temps_de_melange</th>\n",
       "      <th>Temps_de_sechage</th>\n",
       "      <th>Temperature_enceinte_GRANULATION</th>\n",
       "      <th>Temperature_enceinte_MELANGE</th>\n",
       "      <th>Temperature_enceinte_MOUILLAGE</th>\n",
       "      <th>Temperature_entree_REFROIDISSEMENT</th>\n",
       "      <th>Temperature_entree_SECHAGE</th>\n",
       "      <th>Temperature_sortie_REFROIDISSEMENT</th>\n",
       "      <th>Temperature_sortie_SECHAGE</th>\n",
       "      <th>Debit_air_REFROIDISSEMENT</th>\n",
       "      <th>Debit_air_SECHAGE</th>\n",
       "      <th>Puissance_GRANULATION</th>\n",
       "      <th>Puissance_MELANGE</th>\n",
       "      <th>Puissance_MOUILLAGE</th>\n",
       "    </tr>\n",
       "  </thead>\n",
       "  <tbody>\n",
       "    <tr>\n",
       "      <th>7A153</th>\n",
       "      <td>1.92</td>\n",
       "      <td>0.000822</td>\n",
       "      <td>0.000374</td>\n",
       "      <td>0.001427</td>\n",
       "      <td>0.051767</td>\n",
       "      <td>7.663333</td>\n",
       "      <td>12.15</td>\n",
       "      <td>7.69</td>\n",
       "      <td>31.2</td>\n",
       "      <td>58.616667</td>\n",
       "      <td>39.573333</td>\n",
       "      <td>29.126667</td>\n",
       "      <td>4497.573333</td>\n",
       "      <td>4090.61</td>\n",
       "      <td>4.113333</td>\n",
       "      <td>4.743333</td>\n",
       "      <td>2.07</td>\n",
       "    </tr>\n",
       "  </tbody>\n",
       "</table>\n",
       "</div>"
      ],
      "text/plain": [
       "       Humidite_finale  Temps_de_granulation  Temps_de_mouillage  \\\n",
       "7A153             1.92              0.000822            0.000374   \n",
       "\n",
       "       Temps_de_melange  Temps_de_sechage  Temperature_enceinte_GRANULATION  \\\n",
       "7A153          0.001427          0.051767                          7.663333   \n",
       "\n",
       "       Temperature_enceinte_MELANGE  Temperature_enceinte_MOUILLAGE  \\\n",
       "7A153                         12.15                            7.69   \n",
       "\n",
       "       Temperature_entree_REFROIDISSEMENT  Temperature_entree_SECHAGE  \\\n",
       "7A153                                31.2                   58.616667   \n",
       "\n",
       "       Temperature_sortie_REFROIDISSEMENT  Temperature_sortie_SECHAGE  \\\n",
       "7A153                           39.573333                   29.126667   \n",
       "\n",
       "       Debit_air_REFROIDISSEMENT  Debit_air_SECHAGE  Puissance_GRANULATION  \\\n",
       "7A153                4497.573333            4090.61               4.113333   \n",
       "\n",
       "       Puissance_MELANGE  Puissance_MOUILLAGE  \n",
       "7A153           4.743333                 2.07  "
      ]
     },
     "execution_count": 35,
     "metadata": {},
     "output_type": "execute_result"
    }
   ],
   "source": [
    "i = 10\n",
    "X_toPred1 =pd.DataFrame(X_test.iloc[i,:]).T\n",
    "y_actual1 = y_test[i]\n",
    "X_toPred1"
   ]
  },
  {
   "cell_type": "code",
   "execution_count": 36,
   "metadata": {
    "ExecuteTime": {
     "end_time": "2021-02-05T13:51:56.988739Z",
     "start_time": "2021-02-05T13:51:56.975741Z"
    }
   },
   "outputs": [],
   "source": [
    "Humidite_finale = 1.920000\n",
    "Temps_de_granulation = 0.000822\n",
    "Temps_de_mouillage = 0.000374\n",
    "Temps_de_melange = 0.001427\n",
    "Temps_de_sechage = 0.051767\n",
    "Temperature_enceinte_GRANULATION = 7.663333\n",
    "Temperature_enceinte_MELANGE= 12.150000\n",
    "Temperature_enceinte_MOUILLAGE =3\n",
    "Temperature_entree_REFROIDISSEMENT=31.200000\n",
    "Temperature_entree_SECHAGE=80\n",
    "Temperature_sortie_REFROIDISSEMENT=20\n",
    "Temperature_sortie_SECHAGE=29.126667\n",
    "Debit_air_REFROIDISSEMENT=4497.573333\n",
    "Debit_air_SECHAGE=4090.610000\n",
    "Puissance_GRANULATION=4.113333\n",
    "Puissance_MELANGE=4.743333\n",
    "Puissance_MOUILLAGE=2.070000"
   ]
  },
  {
   "cell_type": "code",
   "execution_count": 37,
   "metadata": {
    "ExecuteTime": {
     "end_time": "2021-02-05T13:51:57.029738Z",
     "start_time": "2021-02-05T13:51:56.994738Z"
    },
    "hide_input": false
   },
   "outputs": [],
   "source": [
    "X_toPred2 = {\n",
    "    \"Humidite_finale\" : [Humidite_finale] ,\n",
    "    \"Temps_de_granulation\":[Temps_de_granulation],\n",
    "    \"Temps_de_mouillage\":[Temps_de_mouillage],\n",
    "    \"Temps_de_melange\":[Temps_de_melange],\n",
    "    \"Temps_de_sechage\":[Temps_de_sechage],\n",
    "    \"Temperature_enceinte_GRANULATION\":[Temperature_enceinte_GRANULATION],\n",
    "    \"Temperature_enceinte_MELANGE\":[Temperature_enceinte_MELANGE],\n",
    "    \"Temperature_enceinte_MOUILLAGE\":[Temperature_enceinte_MOUILLAGE],\n",
    "    \"Temperature_entree_REFROIDISSEMENT\":[Temperature_entree_REFROIDISSEMENT],\n",
    "    \"Temperature_entree_SECHAGE\":[Temperature_entree_SECHAGE],\n",
    "    \"Temperature_sortie_REFROIDISSEMENT\":[Temperature_sortie_REFROIDISSEMENT],\n",
    "    \"Temperature_sortie_SECHAGE\":[Temperature_sortie_SECHAGE],\n",
    "    \"Debit_air_REFROIDISSEMENT\":[Debit_air_REFROIDISSEMENT],\n",
    "    \"Debit_air_SECHAGE\":[Debit_air_SECHAGE],\n",
    "    \"Puissance_GRANULATION\":[Puissance_GRANULATION],\n",
    "    \"Puissance_MELANGE\":[Puissance_MELANGE],\n",
    "    \"Puissance_MOUILLAGE\":[Puissance_MOUILLAGE]    \n",
    "}\n",
    "\n",
    "X_toPred2 = pd.DataFrame(X_toPred2)"
   ]
  },
  {
   "cell_type": "markdown",
   "metadata": {},
   "source": [
    "### load from joblib"
   ]
  },
  {
   "cell_type": "code",
   "execution_count": 38,
   "metadata": {
    "ExecuteTime": {
     "end_time": "2021-02-05T13:51:57.041740Z",
     "start_time": "2021-02-05T13:51:57.035738Z"
    }
   },
   "outputs": [],
   "source": [
    "filename = 'models/release/svr_v0.sav'"
   ]
  },
  {
   "cell_type": "code",
   "execution_count": 39,
   "metadata": {
    "ExecuteTime": {
     "end_time": "2021-02-05T13:51:57.101739Z",
     "start_time": "2021-02-05T13:51:57.047739Z"
    }
   },
   "outputs": [
    {
     "data": {
      "text/html": [
       "<div>\n",
       "<style scoped>\n",
       "    .dataframe tbody tr th:only-of-type {\n",
       "        vertical-align: middle;\n",
       "    }\n",
       "\n",
       "    .dataframe tbody tr th {\n",
       "        vertical-align: top;\n",
       "    }\n",
       "\n",
       "    .dataframe thead th {\n",
       "        text-align: right;\n",
       "    }\n",
       "</style>\n",
       "<table border=\"1\" class=\"dataframe\">\n",
       "  <thead>\n",
       "    <tr style=\"text-align: right;\">\n",
       "      <th></th>\n",
       "      <th>Humidite_finale</th>\n",
       "      <th>Temps_de_granulation</th>\n",
       "      <th>Temps_de_mouillage</th>\n",
       "      <th>Temps_de_melange</th>\n",
       "      <th>Temps_de_sechage</th>\n",
       "      <th>Temperature_enceinte_GRANULATION</th>\n",
       "      <th>Temperature_enceinte_MELANGE</th>\n",
       "      <th>Temperature_enceinte_MOUILLAGE</th>\n",
       "      <th>Temperature_entree_REFROIDISSEMENT</th>\n",
       "      <th>Temperature_entree_SECHAGE</th>\n",
       "      <th>Temperature_sortie_REFROIDISSEMENT</th>\n",
       "      <th>Temperature_sortie_SECHAGE</th>\n",
       "      <th>Debit_air_REFROIDISSEMENT</th>\n",
       "      <th>Debit_air_SECHAGE</th>\n",
       "      <th>Puissance_GRANULATION</th>\n",
       "      <th>Puissance_MELANGE</th>\n",
       "      <th>Puissance_MOUILLAGE</th>\n",
       "    </tr>\n",
       "  </thead>\n",
       "  <tbody>\n",
       "    <tr>\n",
       "      <th>0</th>\n",
       "      <td>0</td>\n",
       "      <td>0</td>\n",
       "      <td>0</td>\n",
       "      <td>0</td>\n",
       "      <td>0</td>\n",
       "      <td>0</td>\n",
       "      <td>0</td>\n",
       "      <td>0</td>\n",
       "      <td>0</td>\n",
       "      <td>0</td>\n",
       "      <td>0</td>\n",
       "      <td>0</td>\n",
       "      <td>0</td>\n",
       "      <td>0</td>\n",
       "      <td>0</td>\n",
       "      <td>0</td>\n",
       "      <td>0</td>\n",
       "    </tr>\n",
       "  </tbody>\n",
       "</table>\n",
       "</div>"
      ],
      "text/plain": [
       "   Humidite_finale  Temps_de_granulation  Temps_de_mouillage  \\\n",
       "0                0                     0                   0   \n",
       "\n",
       "   Temps_de_melange  Temps_de_sechage  Temperature_enceinte_GRANULATION  \\\n",
       "0                 0                 0                                 0   \n",
       "\n",
       "   Temperature_enceinte_MELANGE  Temperature_enceinte_MOUILLAGE  \\\n",
       "0                             0                               0   \n",
       "\n",
       "   Temperature_entree_REFROIDISSEMENT  Temperature_entree_SECHAGE  \\\n",
       "0                                   0                           0   \n",
       "\n",
       "   Temperature_sortie_REFROIDISSEMENT  Temperature_sortie_SECHAGE  \\\n",
       "0                                   0                           0   \n",
       "\n",
       "   Debit_air_REFROIDISSEMENT  Debit_air_SECHAGE  Puissance_GRANULATION  \\\n",
       "0                          0                  0                      0   \n",
       "\n",
       "   Puissance_MELANGE  Puissance_MOUILLAGE  \n",
       "0                  0                    0  "
      ]
     },
     "execution_count": 39,
     "metadata": {},
     "output_type": "execute_result"
    }
   ],
   "source": [
    "X_toPred0"
   ]
  },
  {
   "cell_type": "code",
   "execution_count": 40,
   "metadata": {
    "ExecuteTime": {
     "end_time": "2021-02-05T13:51:57.151740Z",
     "start_time": "2021-02-05T13:51:57.107741Z"
    }
   },
   "outputs": [
    {
     "data": {
      "text/html": [
       "<div>\n",
       "<style scoped>\n",
       "    .dataframe tbody tr th:only-of-type {\n",
       "        vertical-align: middle;\n",
       "    }\n",
       "\n",
       "    .dataframe tbody tr th {\n",
       "        vertical-align: top;\n",
       "    }\n",
       "\n",
       "    .dataframe thead th {\n",
       "        text-align: right;\n",
       "    }\n",
       "</style>\n",
       "<table border=\"1\" class=\"dataframe\">\n",
       "  <thead>\n",
       "    <tr style=\"text-align: right;\">\n",
       "      <th></th>\n",
       "      <th>Humidite_finale</th>\n",
       "      <th>Temps_de_granulation</th>\n",
       "      <th>Temps_de_mouillage</th>\n",
       "      <th>Temps_de_melange</th>\n",
       "      <th>Temps_de_sechage</th>\n",
       "      <th>Temperature_enceinte_GRANULATION</th>\n",
       "      <th>Temperature_enceinte_MELANGE</th>\n",
       "      <th>Temperature_enceinte_MOUILLAGE</th>\n",
       "      <th>Temperature_entree_REFROIDISSEMENT</th>\n",
       "      <th>Temperature_entree_SECHAGE</th>\n",
       "      <th>Temperature_sortie_REFROIDISSEMENT</th>\n",
       "      <th>Temperature_sortie_SECHAGE</th>\n",
       "      <th>Debit_air_REFROIDISSEMENT</th>\n",
       "      <th>Debit_air_SECHAGE</th>\n",
       "      <th>Puissance_GRANULATION</th>\n",
       "      <th>Puissance_MELANGE</th>\n",
       "      <th>Puissance_MOUILLAGE</th>\n",
       "    </tr>\n",
       "  </thead>\n",
       "  <tbody>\n",
       "    <tr>\n",
       "      <th>7A153</th>\n",
       "      <td>1.92</td>\n",
       "      <td>0.000822</td>\n",
       "      <td>0.000374</td>\n",
       "      <td>0.001427</td>\n",
       "      <td>0.051767</td>\n",
       "      <td>7.663333</td>\n",
       "      <td>12.15</td>\n",
       "      <td>7.69</td>\n",
       "      <td>31.2</td>\n",
       "      <td>58.616667</td>\n",
       "      <td>39.573333</td>\n",
       "      <td>29.126667</td>\n",
       "      <td>4497.573333</td>\n",
       "      <td>4090.61</td>\n",
       "      <td>4.113333</td>\n",
       "      <td>4.743333</td>\n",
       "      <td>2.07</td>\n",
       "    </tr>\n",
       "  </tbody>\n",
       "</table>\n",
       "</div>"
      ],
      "text/plain": [
       "       Humidite_finale  Temps_de_granulation  Temps_de_mouillage  \\\n",
       "7A153             1.92              0.000822            0.000374   \n",
       "\n",
       "       Temps_de_melange  Temps_de_sechage  Temperature_enceinte_GRANULATION  \\\n",
       "7A153          0.001427          0.051767                          7.663333   \n",
       "\n",
       "       Temperature_enceinte_MELANGE  Temperature_enceinte_MOUILLAGE  \\\n",
       "7A153                         12.15                            7.69   \n",
       "\n",
       "       Temperature_entree_REFROIDISSEMENT  Temperature_entree_SECHAGE  \\\n",
       "7A153                                31.2                   58.616667   \n",
       "\n",
       "       Temperature_sortie_REFROIDISSEMENT  Temperature_sortie_SECHAGE  \\\n",
       "7A153                           39.573333                   29.126667   \n",
       "\n",
       "       Debit_air_REFROIDISSEMENT  Debit_air_SECHAGE  Puissance_GRANULATION  \\\n",
       "7A153                4497.573333            4090.61               4.113333   \n",
       "\n",
       "       Puissance_MELANGE  Puissance_MOUILLAGE  \n",
       "7A153           4.743333                 2.07  "
      ]
     },
     "execution_count": 40,
     "metadata": {},
     "output_type": "execute_result"
    }
   ],
   "source": [
    "X_toPred1"
   ]
  },
  {
   "cell_type": "code",
   "execution_count": 41,
   "metadata": {
    "ExecuteTime": {
     "end_time": "2021-02-05T13:51:57.200739Z",
     "start_time": "2021-02-05T13:51:57.155741Z"
    }
   },
   "outputs": [
    {
     "data": {
      "text/html": [
       "<div>\n",
       "<style scoped>\n",
       "    .dataframe tbody tr th:only-of-type {\n",
       "        vertical-align: middle;\n",
       "    }\n",
       "\n",
       "    .dataframe tbody tr th {\n",
       "        vertical-align: top;\n",
       "    }\n",
       "\n",
       "    .dataframe thead th {\n",
       "        text-align: right;\n",
       "    }\n",
       "</style>\n",
       "<table border=\"1\" class=\"dataframe\">\n",
       "  <thead>\n",
       "    <tr style=\"text-align: right;\">\n",
       "      <th></th>\n",
       "      <th>Humidite_finale</th>\n",
       "      <th>Temps_de_granulation</th>\n",
       "      <th>Temps_de_mouillage</th>\n",
       "      <th>Temps_de_melange</th>\n",
       "      <th>Temps_de_sechage</th>\n",
       "      <th>Temperature_enceinte_GRANULATION</th>\n",
       "      <th>Temperature_enceinte_MELANGE</th>\n",
       "      <th>Temperature_enceinte_MOUILLAGE</th>\n",
       "      <th>Temperature_entree_REFROIDISSEMENT</th>\n",
       "      <th>Temperature_entree_SECHAGE</th>\n",
       "      <th>Temperature_sortie_REFROIDISSEMENT</th>\n",
       "      <th>Temperature_sortie_SECHAGE</th>\n",
       "      <th>Debit_air_REFROIDISSEMENT</th>\n",
       "      <th>Debit_air_SECHAGE</th>\n",
       "      <th>Puissance_GRANULATION</th>\n",
       "      <th>Puissance_MELANGE</th>\n",
       "      <th>Puissance_MOUILLAGE</th>\n",
       "    </tr>\n",
       "  </thead>\n",
       "  <tbody>\n",
       "    <tr>\n",
       "      <th>0</th>\n",
       "      <td>1.92</td>\n",
       "      <td>0.000822</td>\n",
       "      <td>0.000374</td>\n",
       "      <td>0.001427</td>\n",
       "      <td>0.051767</td>\n",
       "      <td>7.663333</td>\n",
       "      <td>12.15</td>\n",
       "      <td>3</td>\n",
       "      <td>31.2</td>\n",
       "      <td>80</td>\n",
       "      <td>20</td>\n",
       "      <td>29.126667</td>\n",
       "      <td>4497.573333</td>\n",
       "      <td>4090.61</td>\n",
       "      <td>4.113333</td>\n",
       "      <td>4.743333</td>\n",
       "      <td>2.07</td>\n",
       "    </tr>\n",
       "  </tbody>\n",
       "</table>\n",
       "</div>"
      ],
      "text/plain": [
       "   Humidite_finale  Temps_de_granulation  Temps_de_mouillage  \\\n",
       "0             1.92              0.000822            0.000374   \n",
       "\n",
       "   Temps_de_melange  Temps_de_sechage  Temperature_enceinte_GRANULATION  \\\n",
       "0          0.001427          0.051767                          7.663333   \n",
       "\n",
       "   Temperature_enceinte_MELANGE  Temperature_enceinte_MOUILLAGE  \\\n",
       "0                         12.15                               3   \n",
       "\n",
       "   Temperature_entree_REFROIDISSEMENT  Temperature_entree_SECHAGE  \\\n",
       "0                                31.2                          80   \n",
       "\n",
       "   Temperature_sortie_REFROIDISSEMENT  Temperature_sortie_SECHAGE  \\\n",
       "0                                  20                   29.126667   \n",
       "\n",
       "   Debit_air_REFROIDISSEMENT  Debit_air_SECHAGE  Puissance_GRANULATION  \\\n",
       "0                4497.573333            4090.61               4.113333   \n",
       "\n",
       "   Puissance_MELANGE  Puissance_MOUILLAGE  \n",
       "0           4.743333                 2.07  "
      ]
     },
     "execution_count": 41,
     "metadata": {},
     "output_type": "execute_result"
    }
   ],
   "source": [
    "X_toPred2"
   ]
  },
  {
   "cell_type": "code",
   "execution_count": 42,
   "metadata": {
    "ExecuteTime": {
     "end_time": "2021-02-05T13:51:57.277741Z",
     "start_time": "2021-02-05T13:51:57.205739Z"
    },
    "hide_input": false
   },
   "outputs": [
    {
     "name": "stdout",
     "output_type": "stream",
     "text": [
      "Dissolution 30mn predicted from x=[0] = [34.23021441]\n",
      "Dissolution 30mn predicted from X_test = [43.08623789] 43.1666666666667\n",
      "Dissolution 30mn predicted from X randomized = [46.16552681]\n"
     ]
    }
   ],
   "source": [
    "import joblib\n",
    "loaded_model = joblib.load(filename)\n",
    "y_test_pred0 = loaded_model.predict(X_toPred0)\n",
    "y_test_pred1 = loaded_model.predict(X_toPred1)\n",
    "y_test_pred2 = loaded_model.predict(X_toPred2)\n",
    "print ('Dissolution 30mn predicted from x=[0] =', y_test_pred0 )\n",
    "print ('Dissolution 30mn predicted from X_test =', y_test_pred1,  y_actual1 )\n",
    "print ('Dissolution 30mn predicted from X randomized =', y_test_pred2)\n"
   ]
  },
  {
   "cell_type": "markdown",
   "metadata": {},
   "source": [
    "### load tf_nn saved"
   ]
  },
  {
   "cell_type": "code",
   "execution_count": 43,
   "metadata": {
    "ExecuteTime": {
     "end_time": "2021-02-05T13:51:57.290266Z",
     "start_time": "2021-02-05T13:51:57.282744Z"
    }
   },
   "outputs": [],
   "source": [
    "filename = 'models/release/nn_tf_v0.h5'"
   ]
  },
  {
   "cell_type": "code",
   "execution_count": 44,
   "metadata": {
    "ExecuteTime": {
     "end_time": "2021-02-05T13:51:57.304775Z",
     "start_time": "2021-02-05T13:51:57.298264Z"
    },
    "hide_input": false
   },
   "outputs": [],
   "source": [
    "X_toPred0 = np.asarray(X_toPred0)\n",
    "X_toPred1 = np.asarray(X_toPred1)\n",
    "X_toPred2 = np.asarray(X_toPred2)\n",
    "\n",
    "#print(X_toPred0.shape)\n",
    "#print(X_toPred1.shape)\n",
    "#print(X_toPred2.shape)"
   ]
  },
  {
   "cell_type": "code",
   "execution_count": 45,
   "metadata": {
    "ExecuteTime": {
     "end_time": "2021-02-05T13:51:58.846338Z",
     "start_time": "2021-02-05T13:51:57.309769Z"
    }
   },
   "outputs": [
    {
     "name": "stdout",
     "output_type": "stream",
     "text": [
      "Dissolution 30mn predicted from x=[0] = [[0.34531945]]\n",
      "Dissolution 30mn predicted from X_test = [[43.99742]] 43.1666666666667\n",
      "Dissolution 30mn predicted from X randomized = [[43.580505]]\n"
     ]
    }
   ],
   "source": [
    "from tensorflow.keras.models import load_model\n",
    "loaded_model = load_model(filename)\n",
    "\n",
    "y_test_pred0 = loaded_model.predict(X_toPred0)\n",
    "y_test_pred1 = loaded_model.predict(X_toPred1)\n",
    "y_test_pred2 = loaded_model.predict(X_toPred2)\n",
    "print ('Dissolution 30mn predicted from x=[0] =', y_test_pred0 )\n",
    "print ('Dissolution 30mn predicted from X_test =', y_test_pred1,  y_actual1 )\n",
    "print ('Dissolution 30mn predicted from X randomized =', y_test_pred2)"
   ]
  },
  {
   "cell_type": "code",
   "execution_count": 59,
   "metadata": {
    "ExecuteTime": {
     "end_time": "2021-02-05T14:08:58.618655Z",
     "start_time": "2021-02-05T14:08:58.594651Z"
    }
   },
   "outputs": [
    {
     "data": {
      "text/plain": [
       "array([43.580505], dtype=float32)"
      ]
     },
     "execution_count": 59,
     "metadata": {},
     "output_type": "execute_result"
    }
   ],
   "source": [
    "x = y_test_pred2[0]\n",
    "x"
   ]
  },
  {
   "cell_type": "code",
   "execution_count": 60,
   "metadata": {
    "ExecuteTime": {
     "end_time": "2021-02-05T14:08:59.359724Z",
     "start_time": "2021-02-05T14:08:59.337881Z"
    }
   },
   "outputs": [
    {
     "data": {
      "text/plain": [
       "43.58"
      ]
     },
     "execution_count": 60,
     "metadata": {},
     "output_type": "execute_result"
    }
   ],
   "source": [
    "round(x[0], 2)"
   ]
  },
  {
   "cell_type": "code",
   "execution_count": null,
   "metadata": {},
   "outputs": [],
   "source": []
  }
 ],
 "metadata": {
  "kernelspec": {
   "display_name": "Python 3",
   "language": "python",
   "name": "python3"
  },
  "language_info": {
   "codemirror_mode": {
    "name": "ipython",
    "version": 3
   },
   "file_extension": ".py",
   "mimetype": "text/x-python",
   "name": "python",
   "nbconvert_exporter": "python",
   "pygments_lexer": "ipython3",
   "version": "3.7.6"
  },
  "toc": {
   "base_numbering": 1,
   "nav_menu": {},
   "number_sections": true,
   "sideBar": true,
   "skip_h1_title": false,
   "title_cell": "Table of Contents",
   "title_sidebar": "Contents",
   "toc_cell": true,
   "toc_position": {
    "height": "calc(100% - 180px)",
    "left": "10px",
    "top": "150px",
    "width": "279px"
   },
   "toc_section_display": true,
   "toc_window_display": true
  },
  "varInspector": {
   "cols": {
    "lenName": 16,
    "lenType": 16,
    "lenVar": 40
   },
   "kernels_config": {
    "python": {
     "delete_cmd_postfix": "",
     "delete_cmd_prefix": "del ",
     "library": "var_list.py",
     "varRefreshCmd": "print(var_dic_list())"
    },
    "r": {
     "delete_cmd_postfix": ") ",
     "delete_cmd_prefix": "rm(",
     "library": "var_list.r",
     "varRefreshCmd": "cat(var_dic_list()) "
    }
   },
   "types_to_exclude": [
    "module",
    "function",
    "builtin_function_or_method",
    "instance",
    "_Feature"
   ],
   "window_display": false
  }
 },
 "nbformat": 4,
 "nbformat_minor": 4
}
